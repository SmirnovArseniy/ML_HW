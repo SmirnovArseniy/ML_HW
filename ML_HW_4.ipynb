{
 "cells": [
  {
   "cell_type": "markdown",
   "metadata": {},
   "source": [
    "## Домашняя работа 4. \n",
    "\n",
    "Максимальный балл за задание - 10."
   ]
  },
  {
   "cell_type": "markdown",
   "metadata": {},
   "source": [
    "## Данные\n",
    "\n",
    "\n",
    "В этой домашней работе мы будем обучать модели машинного обучения, ставить эксперименты, подбирать гиперпараметры, сравнивать и смешивать модели. Вам предлагается решить задачу бинарной классификации, а именно построить алгоритм, определяющий превысит ли средний заработок человека порог $50k. Каждый объект выборки — человек, для которого известны следующие признаки:\n",
    " - age\n",
    " - workclass\n",
    " - fnlwgt\n",
    " - education\n",
    " - education-num\n",
    " - marital-status\n",
    " - occupation\n",
    " - relationship\n",
    " - race\n",
    " - sex\n",
    " - capital-gain\n",
    " - capital-loss\n",
    " - hours-per-week\n",
    " \n",
    "Более подробно про признаки можно почитать [здесь](http://archive.ics.uci.edu/ml/machine-learning-databases/adult/adult.names). Целевой признак записан в переменной *>50K,<=50K*."
   ]
  },
  {
   "cell_type": "markdown",
   "metadata": {},
   "source": [
    "## Метрика качества\n",
    "\n",
    "В задании мы будем оценивать качество моделей с помощью метрики AUC-ROC."
   ]
  },
  {
   "cell_type": "markdown",
   "metadata": {},
   "source": [
    "## Подбор гиперпараметров модели\n",
    "\n",
    "В задачах машинного обучения следует различать параметры модели и гиперпараметры (структурные параметры). Обычно параметры модели настраиваются в ходе обучения (например, веса в линейной модели или структура решающего дерева), в то время как гиперпараметры задаются заранее (например, регуляризация в линейной модели или максимальная глубина решающего дерева). Каждая модель обычно имеет множество гиперпараметров, и нет универсальных наборов гиперпараметров, оптимально работающих во всех задачах, для каждой задачи нужно подбирать свой набор.\n",
    "\n",
    "Для оптимизации гиперпараметров модели часто используют _перебор по сетке (grid search)_: для каждого гиперпараметра выбирается несколько значений, перебираются все комбинации значений и выбирается комбинация, на которой модель показывает лучшее качество (с точки зрения метрики, которая оптимизируется). Однако в этом случае нужно грамотно оценивать построенную модель, а именно делать разбиение на обучающую и тестовую выборку. Есть несколько схем, как это можно реализовать: \n",
    "\n",
    " - Разбить имеющуюся выборку на обучающую и тестовую. В этом случае сравнение большого числа моделей при переборе параметров приводит к ситуации, когда лучшая на тестовой подвыборке модель не сохраняет свои качества на новых данных. Можно сказать, что происходит _переобучение_ на тестовую выборку.\n",
    " - Для устранения описанной выше проблемы, можно разбить данные на 3 непересекающихся подвыборки: обучение (`train`), валидация (`validation`) и контроль (`test`). Валидационную подвыборку используют для сравнения моделей, а `test` — для окончательной оценки качества и сравнения семейств моделей с подобранными параметрами.\n",
    " - Другой способ сравнения моделей — [кросс-валидация](http://en.wikipedia.org/wiki/Cross-validation_(statistics). Существуют различные схемы кросс-валидации:\n",
    "  - Leave-One-Out\n",
    "  - K-Fold\n",
    "  - Многократное случайное разбиение выборки\n",
    "  \n",
    "Кросс-валидация вычислительно затратна, особенно если вы делаете перебор по сетке с очень большим числом комбинации. С учетом конечности времени на выполнение задания, возникает ряд компромиссов: \n",
    "  - сетку можно делать более разреженной, перебирая меньше значений каждого параметра; однако, надо не забывать, что в таком случае можно пропустить хорошую комбинацию параметров;\n",
    "  - кросс-валидацию можно делать с меньшим числом разбиений или фолдов, но в таком случае оценка качества кросс-валидации становится более шумной и увеличивается риск выбрать неоптимальный набор параметров из-за случайности разбиения;\n",
    "  - параметры можно оптимизировать последовательно (жадно) — один за другим, а не перебирать все комбинации; такая стратегия не всегда приводит к оптимальному набору;\n",
    "  - перебирать не все комбинации параметров, а небольшое число случайно выбранных."
   ]
  },
  {
   "cell_type": "markdown",
   "metadata": {},
   "source": [
    "## Задание "
   ]
  },
  {
   "cell_type": "markdown",
   "metadata": {},
   "source": [
    "Загрузите набор данных *data.adult.csv*. Чтобы лучше понимать, с чем вы работаете/корректно ли вы загрузили данные можно вывести несколько первых строк на экран."
   ]
  },
  {
   "cell_type": "code",
   "execution_count": 1,
   "metadata": {},
   "outputs": [],
   "source": [
    "import pandas as pd\n",
    "import numpy as np\n",
    "import sklearn\n",
    "import warnings\n",
    "warnings.simplefilter(\"ignore\")"
   ]
  },
  {
   "cell_type": "code",
   "execution_count": 2,
   "metadata": {},
   "outputs": [
    {
     "data": {
      "text/html": [
       "<div>\n",
       "<style scoped>\n",
       "    .dataframe tbody tr th:only-of-type {\n",
       "        vertical-align: middle;\n",
       "    }\n",
       "\n",
       "    .dataframe tbody tr th {\n",
       "        vertical-align: top;\n",
       "    }\n",
       "\n",
       "    .dataframe thead th {\n",
       "        text-align: right;\n",
       "    }\n",
       "</style>\n",
       "<table border=\"1\" class=\"dataframe\">\n",
       "  <thead>\n",
       "    <tr style=\"text-align: right;\">\n",
       "      <th></th>\n",
       "      <th>age</th>\n",
       "      <th>workclass</th>\n",
       "      <th>fnlwgt</th>\n",
       "      <th>education</th>\n",
       "      <th>education-num</th>\n",
       "      <th>marital-status</th>\n",
       "      <th>occupation</th>\n",
       "      <th>relationship</th>\n",
       "      <th>race</th>\n",
       "      <th>sex</th>\n",
       "      <th>capital-gain</th>\n",
       "      <th>capital-loss</th>\n",
       "      <th>hours-per-week</th>\n",
       "      <th>&gt;50K,&lt;=50K</th>\n",
       "    </tr>\n",
       "  </thead>\n",
       "  <tbody>\n",
       "    <tr>\n",
       "      <th>0</th>\n",
       "      <td>34</td>\n",
       "      <td>Local-gov</td>\n",
       "      <td>284843</td>\n",
       "      <td>HS-grad</td>\n",
       "      <td>9</td>\n",
       "      <td>Never-married</td>\n",
       "      <td>Farming-fishing</td>\n",
       "      <td>Not-in-family</td>\n",
       "      <td>Black</td>\n",
       "      <td>Male</td>\n",
       "      <td>594</td>\n",
       "      <td>0</td>\n",
       "      <td>60</td>\n",
       "      <td>&lt;=50K</td>\n",
       "    </tr>\n",
       "    <tr>\n",
       "      <th>1</th>\n",
       "      <td>40</td>\n",
       "      <td>Private</td>\n",
       "      <td>190290</td>\n",
       "      <td>Some-college</td>\n",
       "      <td>10</td>\n",
       "      <td>Divorced</td>\n",
       "      <td>Sales</td>\n",
       "      <td>Not-in-family</td>\n",
       "      <td>White</td>\n",
       "      <td>Male</td>\n",
       "      <td>0</td>\n",
       "      <td>0</td>\n",
       "      <td>40</td>\n",
       "      <td>&lt;=50K</td>\n",
       "    </tr>\n",
       "    <tr>\n",
       "      <th>2</th>\n",
       "      <td>36</td>\n",
       "      <td>Local-gov</td>\n",
       "      <td>177858</td>\n",
       "      <td>Bachelors</td>\n",
       "      <td>13</td>\n",
       "      <td>Married-civ-spouse</td>\n",
       "      <td>Prof-specialty</td>\n",
       "      <td>Own-child</td>\n",
       "      <td>White</td>\n",
       "      <td>Male</td>\n",
       "      <td>0</td>\n",
       "      <td>0</td>\n",
       "      <td>40</td>\n",
       "      <td>&lt;=50K</td>\n",
       "    </tr>\n",
       "    <tr>\n",
       "      <th>3</th>\n",
       "      <td>22</td>\n",
       "      <td>Private</td>\n",
       "      <td>184756</td>\n",
       "      <td>Some-college</td>\n",
       "      <td>10</td>\n",
       "      <td>Never-married</td>\n",
       "      <td>Sales</td>\n",
       "      <td>Own-child</td>\n",
       "      <td>White</td>\n",
       "      <td>Female</td>\n",
       "      <td>0</td>\n",
       "      <td>0</td>\n",
       "      <td>30</td>\n",
       "      <td>&lt;=50K</td>\n",
       "    </tr>\n",
       "    <tr>\n",
       "      <th>4</th>\n",
       "      <td>47</td>\n",
       "      <td>Private</td>\n",
       "      <td>149700</td>\n",
       "      <td>Bachelors</td>\n",
       "      <td>13</td>\n",
       "      <td>Married-civ-spouse</td>\n",
       "      <td>Tech-support</td>\n",
       "      <td>Husband</td>\n",
       "      <td>White</td>\n",
       "      <td>Male</td>\n",
       "      <td>15024</td>\n",
       "      <td>0</td>\n",
       "      <td>40</td>\n",
       "      <td>&gt;50K</td>\n",
       "    </tr>\n",
       "    <tr>\n",
       "      <th>5</th>\n",
       "      <td>18</td>\n",
       "      <td>Private</td>\n",
       "      <td>446771</td>\n",
       "      <td>Some-college</td>\n",
       "      <td>10</td>\n",
       "      <td>Never-married</td>\n",
       "      <td>Adm-clerical</td>\n",
       "      <td>Own-child</td>\n",
       "      <td>White</td>\n",
       "      <td>Male</td>\n",
       "      <td>0</td>\n",
       "      <td>0</td>\n",
       "      <td>25</td>\n",
       "      <td>&lt;=50K</td>\n",
       "    </tr>\n",
       "    <tr>\n",
       "      <th>6</th>\n",
       "      <td>31</td>\n",
       "      <td>Federal-gov</td>\n",
       "      <td>108464</td>\n",
       "      <td>Assoc-acdm</td>\n",
       "      <td>12</td>\n",
       "      <td>Married-civ-spouse</td>\n",
       "      <td>Tech-support</td>\n",
       "      <td>Husband</td>\n",
       "      <td>White</td>\n",
       "      <td>Male</td>\n",
       "      <td>0</td>\n",
       "      <td>0</td>\n",
       "      <td>40</td>\n",
       "      <td>&lt;=50K</td>\n",
       "    </tr>\n",
       "    <tr>\n",
       "      <th>7</th>\n",
       "      <td>18</td>\n",
       "      <td>?</td>\n",
       "      <td>423460</td>\n",
       "      <td>11th</td>\n",
       "      <td>7</td>\n",
       "      <td>Never-married</td>\n",
       "      <td>?</td>\n",
       "      <td>Own-child</td>\n",
       "      <td>White</td>\n",
       "      <td>Male</td>\n",
       "      <td>0</td>\n",
       "      <td>0</td>\n",
       "      <td>36</td>\n",
       "      <td>&lt;=50K</td>\n",
       "    </tr>\n",
       "    <tr>\n",
       "      <th>8</th>\n",
       "      <td>25</td>\n",
       "      <td>Private</td>\n",
       "      <td>110138</td>\n",
       "      <td>HS-grad</td>\n",
       "      <td>9</td>\n",
       "      <td>Never-married</td>\n",
       "      <td>Other-service</td>\n",
       "      <td>Not-in-family</td>\n",
       "      <td>White</td>\n",
       "      <td>Male</td>\n",
       "      <td>0</td>\n",
       "      <td>0</td>\n",
       "      <td>40</td>\n",
       "      <td>&lt;=50K</td>\n",
       "    </tr>\n",
       "    <tr>\n",
       "      <th>9</th>\n",
       "      <td>53</td>\n",
       "      <td>Federal-gov</td>\n",
       "      <td>167410</td>\n",
       "      <td>Bachelors</td>\n",
       "      <td>13</td>\n",
       "      <td>Divorced</td>\n",
       "      <td>Tech-support</td>\n",
       "      <td>Not-in-family</td>\n",
       "      <td>Amer-Indian-Eskimo</td>\n",
       "      <td>Male</td>\n",
       "      <td>0</td>\n",
       "      <td>0</td>\n",
       "      <td>40</td>\n",
       "      <td>&lt;=50K</td>\n",
       "    </tr>\n",
       "  </tbody>\n",
       "</table>\n",
       "</div>"
      ],
      "text/plain": [
       "   age    workclass  fnlwgt     education  education-num      marital-status  \\\n",
       "0   34    Local-gov  284843       HS-grad              9       Never-married   \n",
       "1   40      Private  190290  Some-college             10            Divorced   \n",
       "2   36    Local-gov  177858     Bachelors             13  Married-civ-spouse   \n",
       "3   22      Private  184756  Some-college             10       Never-married   \n",
       "4   47      Private  149700     Bachelors             13  Married-civ-spouse   \n",
       "5   18      Private  446771  Some-college             10       Never-married   \n",
       "6   31  Federal-gov  108464    Assoc-acdm             12  Married-civ-spouse   \n",
       "7   18            ?  423460          11th              7       Never-married   \n",
       "8   25      Private  110138       HS-grad              9       Never-married   \n",
       "9   53  Federal-gov  167410     Bachelors             13            Divorced   \n",
       "\n",
       "        occupation   relationship                race     sex  capital-gain  \\\n",
       "0  Farming-fishing  Not-in-family               Black    Male           594   \n",
       "1            Sales  Not-in-family               White    Male             0   \n",
       "2   Prof-specialty      Own-child               White    Male             0   \n",
       "3            Sales      Own-child               White  Female             0   \n",
       "4     Tech-support        Husband               White    Male         15024   \n",
       "5     Adm-clerical      Own-child               White    Male             0   \n",
       "6     Tech-support        Husband               White    Male             0   \n",
       "7                ?      Own-child               White    Male             0   \n",
       "8    Other-service  Not-in-family               White    Male             0   \n",
       "9     Tech-support  Not-in-family  Amer-Indian-Eskimo    Male             0   \n",
       "\n",
       "   capital-loss  hours-per-week >50K,<=50K  \n",
       "0             0              60      <=50K  \n",
       "1             0              40      <=50K  \n",
       "2             0              40      <=50K  \n",
       "3             0              30      <=50K  \n",
       "4             0              40       >50K  \n",
       "5             0              25      <=50K  \n",
       "6             0              40      <=50K  \n",
       "7             0              36      <=50K  \n",
       "8             0              40      <=50K  \n",
       "9             0              40      <=50K  "
      ]
     },
     "execution_count": 2,
     "metadata": {},
     "output_type": "execute_result"
    }
   ],
   "source": [
    "df = pd.read_csv('data.adult.csv')\n",
    "df.head(10)"
   ]
  },
  {
   "cell_type": "code",
   "execution_count": 3,
   "metadata": {},
   "outputs": [
    {
     "data": {
      "text/plain": [
       "(16280, 14)"
      ]
     },
     "execution_count": 3,
     "metadata": {},
     "output_type": "execute_result"
    }
   ],
   "source": [
    "df.shape"
   ]
  },
  {
   "cell_type": "markdown",
   "metadata": {},
   "source": [
    "Иногда в данных встречаются пропуски. Как задаются пропуски обычно либо прописывается в описании к данным, либо просто на месте пропуска после чтения данных оказывается значение numpy.nan. Более подробно о работе с пропусками в Pandas можно прочитать например [здесь](http://pandas.pydata.org/pandas-docs/stable/missing_data.html). \n",
    "\n",
    "В данном датасете пропущенные значения обозначены как \"?\". \n",
    "\n",
    "**Задание 1 (0.5 балла)** Найдите все признаки, имеющие пропущенные значения. Удалите из выборки все объекты с пропусками."
   ]
  },
  {
   "cell_type": "code",
   "execution_count": 4,
   "metadata": {},
   "outputs": [
    {
     "data": {
      "text/html": [
       "<div>\n",
       "<style scoped>\n",
       "    .dataframe tbody tr th:only-of-type {\n",
       "        vertical-align: middle;\n",
       "    }\n",
       "\n",
       "    .dataframe tbody tr th {\n",
       "        vertical-align: top;\n",
       "    }\n",
       "\n",
       "    .dataframe thead th {\n",
       "        text-align: right;\n",
       "    }\n",
       "</style>\n",
       "<table border=\"1\" class=\"dataframe\">\n",
       "  <thead>\n",
       "    <tr style=\"text-align: right;\">\n",
       "      <th></th>\n",
       "      <th>age</th>\n",
       "      <th>workclass</th>\n",
       "      <th>fnlwgt</th>\n",
       "      <th>education</th>\n",
       "      <th>education-num</th>\n",
       "      <th>marital-status</th>\n",
       "      <th>occupation</th>\n",
       "      <th>relationship</th>\n",
       "      <th>race</th>\n",
       "      <th>sex</th>\n",
       "      <th>capital-gain</th>\n",
       "      <th>capital-loss</th>\n",
       "      <th>hours-per-week</th>\n",
       "      <th>&gt;50K,&lt;=50K</th>\n",
       "    </tr>\n",
       "  </thead>\n",
       "  <tbody>\n",
       "    <tr>\n",
       "      <th>0</th>\n",
       "      <td>34</td>\n",
       "      <td>Local-gov</td>\n",
       "      <td>284843</td>\n",
       "      <td>HS-grad</td>\n",
       "      <td>9</td>\n",
       "      <td>Never-married</td>\n",
       "      <td>Farming-fishing</td>\n",
       "      <td>Not-in-family</td>\n",
       "      <td>Black</td>\n",
       "      <td>Male</td>\n",
       "      <td>594</td>\n",
       "      <td>0</td>\n",
       "      <td>60</td>\n",
       "      <td>&lt;=50K</td>\n",
       "    </tr>\n",
       "    <tr>\n",
       "      <th>1</th>\n",
       "      <td>40</td>\n",
       "      <td>Private</td>\n",
       "      <td>190290</td>\n",
       "      <td>Some-college</td>\n",
       "      <td>10</td>\n",
       "      <td>Divorced</td>\n",
       "      <td>Sales</td>\n",
       "      <td>Not-in-family</td>\n",
       "      <td>White</td>\n",
       "      <td>Male</td>\n",
       "      <td>0</td>\n",
       "      <td>0</td>\n",
       "      <td>40</td>\n",
       "      <td>&lt;=50K</td>\n",
       "    </tr>\n",
       "    <tr>\n",
       "      <th>2</th>\n",
       "      <td>36</td>\n",
       "      <td>Local-gov</td>\n",
       "      <td>177858</td>\n",
       "      <td>Bachelors</td>\n",
       "      <td>13</td>\n",
       "      <td>Married-civ-spouse</td>\n",
       "      <td>Prof-specialty</td>\n",
       "      <td>Own-child</td>\n",
       "      <td>White</td>\n",
       "      <td>Male</td>\n",
       "      <td>0</td>\n",
       "      <td>0</td>\n",
       "      <td>40</td>\n",
       "      <td>&lt;=50K</td>\n",
       "    </tr>\n",
       "    <tr>\n",
       "      <th>3</th>\n",
       "      <td>22</td>\n",
       "      <td>Private</td>\n",
       "      <td>184756</td>\n",
       "      <td>Some-college</td>\n",
       "      <td>10</td>\n",
       "      <td>Never-married</td>\n",
       "      <td>Sales</td>\n",
       "      <td>Own-child</td>\n",
       "      <td>White</td>\n",
       "      <td>Female</td>\n",
       "      <td>0</td>\n",
       "      <td>0</td>\n",
       "      <td>30</td>\n",
       "      <td>&lt;=50K</td>\n",
       "    </tr>\n",
       "    <tr>\n",
       "      <th>4</th>\n",
       "      <td>47</td>\n",
       "      <td>Private</td>\n",
       "      <td>149700</td>\n",
       "      <td>Bachelors</td>\n",
       "      <td>13</td>\n",
       "      <td>Married-civ-spouse</td>\n",
       "      <td>Tech-support</td>\n",
       "      <td>Husband</td>\n",
       "      <td>White</td>\n",
       "      <td>Male</td>\n",
       "      <td>15024</td>\n",
       "      <td>0</td>\n",
       "      <td>40</td>\n",
       "      <td>&gt;50K</td>\n",
       "    </tr>\n",
       "    <tr>\n",
       "      <th>5</th>\n",
       "      <td>18</td>\n",
       "      <td>Private</td>\n",
       "      <td>446771</td>\n",
       "      <td>Some-college</td>\n",
       "      <td>10</td>\n",
       "      <td>Never-married</td>\n",
       "      <td>Adm-clerical</td>\n",
       "      <td>Own-child</td>\n",
       "      <td>White</td>\n",
       "      <td>Male</td>\n",
       "      <td>0</td>\n",
       "      <td>0</td>\n",
       "      <td>25</td>\n",
       "      <td>&lt;=50K</td>\n",
       "    </tr>\n",
       "    <tr>\n",
       "      <th>6</th>\n",
       "      <td>31</td>\n",
       "      <td>Federal-gov</td>\n",
       "      <td>108464</td>\n",
       "      <td>Assoc-acdm</td>\n",
       "      <td>12</td>\n",
       "      <td>Married-civ-spouse</td>\n",
       "      <td>Tech-support</td>\n",
       "      <td>Husband</td>\n",
       "      <td>White</td>\n",
       "      <td>Male</td>\n",
       "      <td>0</td>\n",
       "      <td>0</td>\n",
       "      <td>40</td>\n",
       "      <td>&lt;=50K</td>\n",
       "    </tr>\n",
       "    <tr>\n",
       "      <th>8</th>\n",
       "      <td>25</td>\n",
       "      <td>Private</td>\n",
       "      <td>110138</td>\n",
       "      <td>HS-grad</td>\n",
       "      <td>9</td>\n",
       "      <td>Never-married</td>\n",
       "      <td>Other-service</td>\n",
       "      <td>Not-in-family</td>\n",
       "      <td>White</td>\n",
       "      <td>Male</td>\n",
       "      <td>0</td>\n",
       "      <td>0</td>\n",
       "      <td>40</td>\n",
       "      <td>&lt;=50K</td>\n",
       "    </tr>\n",
       "    <tr>\n",
       "      <th>9</th>\n",
       "      <td>53</td>\n",
       "      <td>Federal-gov</td>\n",
       "      <td>167410</td>\n",
       "      <td>Bachelors</td>\n",
       "      <td>13</td>\n",
       "      <td>Divorced</td>\n",
       "      <td>Tech-support</td>\n",
       "      <td>Not-in-family</td>\n",
       "      <td>Amer-Indian-Eskimo</td>\n",
       "      <td>Male</td>\n",
       "      <td>0</td>\n",
       "      <td>0</td>\n",
       "      <td>40</td>\n",
       "      <td>&lt;=50K</td>\n",
       "    </tr>\n",
       "    <tr>\n",
       "      <th>10</th>\n",
       "      <td>19</td>\n",
       "      <td>Private</td>\n",
       "      <td>131615</td>\n",
       "      <td>HS-grad</td>\n",
       "      <td>9</td>\n",
       "      <td>Never-married</td>\n",
       "      <td>Machine-op-inspct</td>\n",
       "      <td>Own-child</td>\n",
       "      <td>White</td>\n",
       "      <td>Male</td>\n",
       "      <td>0</td>\n",
       "      <td>0</td>\n",
       "      <td>40</td>\n",
       "      <td>&lt;=50K</td>\n",
       "    </tr>\n",
       "  </tbody>\n",
       "</table>\n",
       "</div>"
      ],
      "text/plain": [
       "    age    workclass  fnlwgt     education  education-num      marital-status  \\\n",
       "0    34    Local-gov  284843       HS-grad              9       Never-married   \n",
       "1    40      Private  190290  Some-college             10            Divorced   \n",
       "2    36    Local-gov  177858     Bachelors             13  Married-civ-spouse   \n",
       "3    22      Private  184756  Some-college             10       Never-married   \n",
       "4    47      Private  149700     Bachelors             13  Married-civ-spouse   \n",
       "5    18      Private  446771  Some-college             10       Never-married   \n",
       "6    31  Federal-gov  108464    Assoc-acdm             12  Married-civ-spouse   \n",
       "8    25      Private  110138       HS-grad              9       Never-married   \n",
       "9    53  Federal-gov  167410     Bachelors             13            Divorced   \n",
       "10   19      Private  131615       HS-grad              9       Never-married   \n",
       "\n",
       "           occupation   relationship                race     sex  \\\n",
       "0     Farming-fishing  Not-in-family               Black    Male   \n",
       "1               Sales  Not-in-family               White    Male   \n",
       "2      Prof-specialty      Own-child               White    Male   \n",
       "3               Sales      Own-child               White  Female   \n",
       "4        Tech-support        Husband               White    Male   \n",
       "5        Adm-clerical      Own-child               White    Male   \n",
       "6        Tech-support        Husband               White    Male   \n",
       "8       Other-service  Not-in-family               White    Male   \n",
       "9        Tech-support  Not-in-family  Amer-Indian-Eskimo    Male   \n",
       "10  Machine-op-inspct      Own-child               White    Male   \n",
       "\n",
       "    capital-gain  capital-loss  hours-per-week >50K,<=50K  \n",
       "0            594             0              60      <=50K  \n",
       "1              0             0              40      <=50K  \n",
       "2              0             0              40      <=50K  \n",
       "3              0             0              30      <=50K  \n",
       "4          15024             0              40       >50K  \n",
       "5              0             0              25      <=50K  \n",
       "6              0             0              40      <=50K  \n",
       "8              0             0              40      <=50K  \n",
       "9              0             0              40      <=50K  \n",
       "10             0             0              40      <=50K  "
      ]
     },
     "execution_count": 4,
     "metadata": {},
     "output_type": "execute_result"
    }
   ],
   "source": [
    "df = df.replace('?', np.nan)\n",
    "df = df.dropna()\n",
    "df.head(10)"
   ]
  },
  {
   "cell_type": "code",
   "execution_count": 5,
   "metadata": {},
   "outputs": [
    {
     "data": {
      "text/plain": [
       "(15347, 14)"
      ]
     },
     "execution_count": 5,
     "metadata": {},
     "output_type": "execute_result"
    }
   ],
   "source": [
    "df.shape"
   ]
  },
  {
   "cell_type": "markdown",
   "metadata": {},
   "source": [
    "Обычно после загрузки датасета всегда необходима его некоторая предобработка. В данном случае она будет заключаться в следующем: \n",
    "\n",
    " - Выделите целевую переменную в отдельную переменную, удалите ее из датасета и преобразуйте к бинарному формату.\n",
    " - Обратите внимание, что не все признаки являются вещественными. В начале мы будем работать только с вещественными признаками. Выделите их отдельно."
   ]
  },
  {
   "cell_type": "code",
   "execution_count": 6,
   "metadata": {},
   "outputs": [
    {
     "data": {
      "text/plain": [
       "0        <=50K\n",
       "1        <=50K\n",
       "2        <=50K\n",
       "3        <=50K\n",
       "4         >50K\n",
       "         ...  \n",
       "16275    <=50K\n",
       "16276     >50K\n",
       "16277    <=50K\n",
       "16278    <=50K\n",
       "16279     >50K\n",
       "Name: >50K,<=50K, Length: 15347, dtype: object"
      ]
     },
     "execution_count": 6,
     "metadata": {},
     "output_type": "execute_result"
    }
   ],
   "source": [
    "y = df['>50K,<=50K']\n",
    "X = df.drop('>50K,<=50K', axis=1)\n",
    "y"
   ]
  },
  {
   "cell_type": "code",
   "execution_count": 7,
   "metadata": {},
   "outputs": [
    {
     "data": {
      "text/plain": [
       "0        0\n",
       "1        0\n",
       "2        0\n",
       "3        0\n",
       "4        1\n",
       "        ..\n",
       "16275    0\n",
       "16276    1\n",
       "16277    0\n",
       "16278    0\n",
       "16279    1\n",
       "Name: >50K,<=50K, Length: 15347, dtype: int64"
      ]
     },
     "execution_count": 7,
     "metadata": {},
     "output_type": "execute_result"
    }
   ],
   "source": [
    "y = y.replace({'<=50K': 0,\n",
    "              '>50K': 1})\n",
    "y"
   ]
  },
  {
   "cell_type": "markdown",
   "metadata": {},
   "source": [
    "## Обучение классификаторов на вещественных признаках\n",
    "\n",
    "В данном разделе необходимо будет работать только с вещественными признаками и целевой переменной.\n",
    "\n",
    "В начале посмотрим как работает подбор параметров по сетке и как влияет на качество разбиение выборки. Сейчас и далее будем рассматривать 5 алгоритмов:\n",
    " - [kNN](http://scikit-learn.org/stable/modules/generated/sklearn.neighbors.KNeighborsClassifier.html)\n",
    " - [DecisonTree](http://scikit-learn.org/stable/modules/generated/sklearn.tree.DecisionTreeClassifier.html#sklearn.tree.DecisionTreeClassifier)\n",
    " - [SGD Linear Classifier](http://scikit-learn.org/stable/modules/generated/sklearn.linear_model.SGDClassifier.html)\n",
    " - [RandomForest](http://scikit-learn.org/stable/modules/generated/sklearn.ensemble.RandomForestClassifier.html)\n",
    " - [GradientBoosting](https://scikit-learn.org/stable/modules/generated/sklearn.ensemble.GradientBoostingClassifier.html)\n",
    "\n",
    "Для начала у первых трёх алгоритмов выберем один гиперпараметр, который будем оптимизировать:\n",
    " - kNN — число соседей (*n_neighbors*)\n",
    " - DecisonTree — глубина дерева (*max_depth*)\n",
    " - SGD Linear Classifier — оптимизируемая функция (*loss*)\n",
    " \n",
    "Остальные параметры оставляйте в значениях по умолчанию. Для подбора гиперпараметров воспользуйтесь перебором по сетке, который реализован в классе [GridSearchCV](https://scikit-learn.org/stable/modules/generated/sklearn.model_selection.GridSearchCV.html). В качестве схемы кросс-валидации используйте 5-fold cv, которую можно задать с помощью класса [KFold](https://scikit-learn.org/stable/modules/generated/sklearn.model_selection.KFold.html).\n",
    "\n",
    "**Задание 2 (1 балл)** Для каждого из первых трех алгоритмов подберите оптимальные значения указанных гиперпараметров. Для каждого из этих алгоритмов постройте график среднего качества по кросс-валидации при заданном значении гиперпараметра, на котором также отобразите доверительный интервал [m-std, m+std], где m - среднее, std - стандартное отклонение."
   ]
  },
  {
   "cell_type": "code",
   "execution_count": 8,
   "metadata": {},
   "outputs": [
    {
     "data": {
      "text/html": [
       "<div>\n",
       "<style scoped>\n",
       "    .dataframe tbody tr th:only-of-type {\n",
       "        vertical-align: middle;\n",
       "    }\n",
       "\n",
       "    .dataframe tbody tr th {\n",
       "        vertical-align: top;\n",
       "    }\n",
       "\n",
       "    .dataframe thead th {\n",
       "        text-align: right;\n",
       "    }\n",
       "</style>\n",
       "<table border=\"1\" class=\"dataframe\">\n",
       "  <thead>\n",
       "    <tr style=\"text-align: right;\">\n",
       "      <th></th>\n",
       "      <th>age</th>\n",
       "      <th>fnlwgt</th>\n",
       "      <th>education-num</th>\n",
       "      <th>capital-gain</th>\n",
       "      <th>capital-loss</th>\n",
       "      <th>hours-per-week</th>\n",
       "    </tr>\n",
       "  </thead>\n",
       "  <tbody>\n",
       "    <tr>\n",
       "      <th>0</th>\n",
       "      <td>34</td>\n",
       "      <td>284843</td>\n",
       "      <td>9</td>\n",
       "      <td>594</td>\n",
       "      <td>0</td>\n",
       "      <td>60</td>\n",
       "    </tr>\n",
       "    <tr>\n",
       "      <th>1</th>\n",
       "      <td>40</td>\n",
       "      <td>190290</td>\n",
       "      <td>10</td>\n",
       "      <td>0</td>\n",
       "      <td>0</td>\n",
       "      <td>40</td>\n",
       "    </tr>\n",
       "    <tr>\n",
       "      <th>2</th>\n",
       "      <td>36</td>\n",
       "      <td>177858</td>\n",
       "      <td>13</td>\n",
       "      <td>0</td>\n",
       "      <td>0</td>\n",
       "      <td>40</td>\n",
       "    </tr>\n",
       "    <tr>\n",
       "      <th>3</th>\n",
       "      <td>22</td>\n",
       "      <td>184756</td>\n",
       "      <td>10</td>\n",
       "      <td>0</td>\n",
       "      <td>0</td>\n",
       "      <td>30</td>\n",
       "    </tr>\n",
       "    <tr>\n",
       "      <th>4</th>\n",
       "      <td>47</td>\n",
       "      <td>149700</td>\n",
       "      <td>13</td>\n",
       "      <td>15024</td>\n",
       "      <td>0</td>\n",
       "      <td>40</td>\n",
       "    </tr>\n",
       "    <tr>\n",
       "      <th>...</th>\n",
       "      <td>...</td>\n",
       "      <td>...</td>\n",
       "      <td>...</td>\n",
       "      <td>...</td>\n",
       "      <td>...</td>\n",
       "      <td>...</td>\n",
       "    </tr>\n",
       "    <tr>\n",
       "      <th>16275</th>\n",
       "      <td>25</td>\n",
       "      <td>514716</td>\n",
       "      <td>13</td>\n",
       "      <td>0</td>\n",
       "      <td>0</td>\n",
       "      <td>40</td>\n",
       "    </tr>\n",
       "    <tr>\n",
       "      <th>16276</th>\n",
       "      <td>32</td>\n",
       "      <td>207668</td>\n",
       "      <td>13</td>\n",
       "      <td>15024</td>\n",
       "      <td>0</td>\n",
       "      <td>45</td>\n",
       "    </tr>\n",
       "    <tr>\n",
       "      <th>16277</th>\n",
       "      <td>27</td>\n",
       "      <td>104457</td>\n",
       "      <td>13</td>\n",
       "      <td>0</td>\n",
       "      <td>0</td>\n",
       "      <td>40</td>\n",
       "    </tr>\n",
       "    <tr>\n",
       "      <th>16278</th>\n",
       "      <td>59</td>\n",
       "      <td>268700</td>\n",
       "      <td>9</td>\n",
       "      <td>0</td>\n",
       "      <td>0</td>\n",
       "      <td>40</td>\n",
       "    </tr>\n",
       "    <tr>\n",
       "      <th>16279</th>\n",
       "      <td>33</td>\n",
       "      <td>59083</td>\n",
       "      <td>13</td>\n",
       "      <td>0</td>\n",
       "      <td>1902</td>\n",
       "      <td>45</td>\n",
       "    </tr>\n",
       "  </tbody>\n",
       "</table>\n",
       "<p>15347 rows × 6 columns</p>\n",
       "</div>"
      ],
      "text/plain": [
       "       age  fnlwgt  education-num  capital-gain  capital-loss  hours-per-week\n",
       "0       34  284843              9           594             0              60\n",
       "1       40  190290             10             0             0              40\n",
       "2       36  177858             13             0             0              40\n",
       "3       22  184756             10             0             0              30\n",
       "4       47  149700             13         15024             0              40\n",
       "...    ...     ...            ...           ...           ...             ...\n",
       "16275   25  514716             13             0             0              40\n",
       "16276   32  207668             13         15024             0              45\n",
       "16277   27  104457             13             0             0              40\n",
       "16278   59  268700              9             0             0              40\n",
       "16279   33   59083             13             0          1902              45\n",
       "\n",
       "[15347 rows x 6 columns]"
      ]
     },
     "execution_count": 8,
     "metadata": {},
     "output_type": "execute_result"
    }
   ],
   "source": [
    "num_cols = X.columns[X.dtypes != object].tolist()\n",
    "X = X[num_cols]\n",
    "X"
   ]
  },
  {
   "cell_type": "markdown",
   "metadata": {},
   "source": [
    "### Knn"
   ]
  },
  {
   "cell_type": "code",
   "execution_count": 9,
   "metadata": {},
   "outputs": [
    {
     "name": "stdout",
     "output_type": "stream",
     "text": [
      "Best k = 4.0000\n",
      "Best AUC-ROC = 0.6407\n"
     ]
    },
    {
     "data": {
      "text/plain": [
       "<Figure size 1440x1440 with 0 Axes>"
      ]
     },
     "execution_count": 9,
     "metadata": {},
     "output_type": "execute_result"
    },
    {
     "data": {
      "image/png": "[encoded data removed]",
      "text/plain": [
       "<Figure size 432x288 with 1 Axes>"
      ]
     },
     "metadata": {
      "needs_background": "light"
     },
     "output_type": "display_data"
    },
    {
     "data": {
      "text/plain": [
       "<Figure size 1440x1440 with 0 Axes>"
      ]
     },
     "metadata": {},
     "output_type": "display_data"
    }
   ],
   "source": [
    "from sklearn.neighbors import KNeighborsClassifier\n",
    "from sklearn.model_selection import GridSearchCV\n",
    "from sklearn.model_selection import KFold\n",
    "import matplotlib.pyplot as plt\n",
    "from sklearn.metrics import roc_auc_score\n",
    "\n",
    "knn = KNeighborsClassifier()\n",
    "params = {'n_neighbors': range(1, 40)}\n",
    "grid_1 = GridSearchCV(knn, params, cv=5, scoring='roc_auc')\n",
    "grid_1.fit(X, y)\n",
    "\n",
    "print(\"Best k = %.4f\" % grid_1.best_params_[\"n_neighbors\"])\n",
    "print(\"Best AUC-ROC = %.4f\" % grid_1.best_score_)\n",
    "\n",
    "a1 = np.mean(grid_1.cv_results_[\"mean_test_score\"]) - np.std(grid_1.cv_results_[\"mean_test_score\"])\n",
    "a2 = np.mean(grid_1.cv_results_[\"mean_test_score\"]) + np.std(grid_1.cv_results_[\"mean_test_score\"])\n",
    "\n",
    "plt.plot(list(range(1, 40)), grid_1.cv_results_[\"mean_test_score\"])\n",
    "plt.plot([0, 40], [a1, a1], \n",
    "        linestyle = '--',\n",
    "        linewidth = 2,\n",
    "        color = 'orange')\n",
    "plt.plot([0, 40], [a2, a2], \n",
    "        linestyle = '--',\n",
    "        linewidth = 2,\n",
    "        color = 'orange')\n",
    "plt.xlabel(\"Кол-во соседей\")\n",
    "plt.ylabel(\"AUC-ROC\")\n",
    "plt.figure(figsize=(20, 20))"
   ]
  },
  {
   "cell_type": "markdown",
   "metadata": {},
   "source": [
    "### DecisonTree"
   ]
  },
  {
   "cell_type": "code",
   "execution_count": 10,
   "metadata": {},
   "outputs": [
    {
     "name": "stdout",
     "output_type": "stream",
     "text": [
      "Best depth = 7.0000\n",
      "Best AUC-ROC = 0.8415\n"
     ]
    },
    {
     "data": {
      "text/plain": [
       "<Figure size 1440x1440 with 0 Axes>"
      ]
     },
     "execution_count": 10,
     "metadata": {},
     "output_type": "execute_result"
    },
    {
     "data": {
      "image/png": "[encoded data removed]",
      "text/plain": [
       "<Figure size 432x288 with 1 Axes>"
      ]
     },
     "metadata": {
      "needs_background": "light"
     },
     "output_type": "display_data"
    },
    {
     "data": {
      "text/plain": [
       "<Figure size 1440x1440 with 0 Axes>"
      ]
     },
     "metadata": {},
     "output_type": "display_data"
    }
   ],
   "source": [
    "from sklearn.tree import DecisionTreeClassifier\n",
    "\n",
    "DC = DecisionTreeClassifier()\n",
    "params_2 = {'max_depth': range(1, 12)}\n",
    "grid_2 = GridSearchCV(DC, params_2, cv=5, scoring='roc_auc')\n",
    "grid_2.fit(X, y)\n",
    "\n",
    "print(\"Best depth = %.4f\" % grid_2.best_params_[\"max_depth\"])\n",
    "print(\"Best AUC-ROC = %.4f\" % grid_2.best_score_)\n",
    "\n",
    "b1 = np.mean(grid_2.cv_results_[\"mean_test_score\"]) - np.std(grid_2.cv_results_[\"mean_test_score\"])\n",
    "b2 = np.mean(grid_2.cv_results_[\"mean_test_score\"]) + np.std(grid_2.cv_results_[\"mean_test_score\"])\n",
    "\n",
    "plt.plot(list(range(1, 12)), grid_2.cv_results_[\"mean_test_score\"])\n",
    "plt.plot([0, 11], [b1, b1], \n",
    "        linestyle = '--',\n",
    "        linewidth = 2,\n",
    "        color = 'orange')\n",
    "plt.plot([0, 11], [b2, b2],\n",
    "        linestyle = '--',\n",
    "        linewidth = 2,\n",
    "        color = 'orange')\n",
    "plt.xlabel(\"Кол-во соседей\")\n",
    "plt.ylabel(\"AUC-ROC\")\n",
    "plt.figure(figsize=(20, 20))"
   ]
  },
  {
   "cell_type": "markdown",
   "metadata": {},
   "source": [
    "### SGD Linear Classifier"
   ]
  },
  {
   "cell_type": "code",
   "execution_count": 11,
   "metadata": {},
   "outputs": [
    {
     "name": "stdout",
     "output_type": "stream",
     "text": [
      "Best loss = modified_huber\n",
      "Best AUC-ROC = 0.6173\n",
      "Best loss = modified_huber\n",
      "Best AUC-ROC = 0.6232\n",
      "Best loss = log\n",
      "Best AUC-ROC = 0.6173\n",
      "Best loss = modified_huber\n",
      "Best AUC-ROC = 0.6283\n",
      "Best loss = hinge\n",
      "Best AUC-ROC = 0.6102\n",
      "Best loss = modified_huber\n",
      "Best AUC-ROC = 0.6160\n",
      "Best loss = log\n",
      "Best AUC-ROC = 0.6192\n"
     ]
    },
    {
     "data": {
      "image/png": "[encoded data removed]",
      "text/plain": [
       "<Figure size 432x288 with 1 Axes>"
      ]
     },
     "metadata": {
      "needs_background": "light"
     },
     "output_type": "display_data"
    },
    {
     "data": {
      "image/png": "[encoded data removed]",
      "text/plain": [
       "<Figure size 360x360 with 1 Axes>"
      ]
     },
     "metadata": {
      "needs_background": "light"
     },
     "output_type": "display_data"
    },
    {
     "data": {
      "image/png": "[encoded data removed]",
      "text/plain": [
       "<Figure size 360x360 with 1 Axes>"
      ]
     },
     "metadata": {
      "needs_background": "light"
     },
     "output_type": "display_data"
    },
    {
     "data": {
      "image/png": "[encoded data removed]",
      "text/plain": [
       "<Figure size 360x360 with 1 Axes>"
      ]
     },
     "metadata": {
      "needs_background": "light"
     },
     "output_type": "display_data"
    },
    {
     "data": {
      "image/png": "[encoded data removed]",
      "text/plain": [
       "<Figure size 360x360 with 1 Axes>"
      ]
     },
     "metadata": {
      "needs_background": "light"
     },
     "output_type": "display_data"
    },
    {
     "data": {
      "image/png": "[encoded data removed]",
      "text/plain": [
       "<Figure size 360x360 with 1 Axes>"
      ]
     },
     "metadata": {
      "needs_background": "light"
     },
     "output_type": "display_data"
    },
    {
     "data": {
      "image/png": "[encoded data removed]",
      "text/plain": [
       "<Figure size 360x360 with 1 Axes>"
      ]
     },
     "metadata": {
      "needs_background": "light"
     },
     "output_type": "display_data"
    },
    {
     "data": {
      "text/plain": [
       "<Figure size 360x360 with 0 Axes>"
      ]
     },
     "metadata": {},
     "output_type": "display_data"
    }
   ],
   "source": [
    "from sklearn.linear_model import SGDClassifier\n",
    "\n",
    "SL = SGDClassifier()\n",
    "params_3 = {'loss': ['hinge', 'modified_huber', 'log']}\n",
    "for i in range(1, 8):\n",
    "    grid_3 = GridSearchCV(SL, params_3, cv=5, scoring='roc_auc')\n",
    "    grid_3.fit(X, y)\n",
    "\n",
    "    print(\"Best loss =\", grid_3.best_params_[\"loss\"])\n",
    "    print(\"Best AUC-ROC = %.4f\" % grid_3.best_score_)\n",
    "    \n",
    "    c1 = np.mean(grid_3.cv_results_[\"mean_test_score\"]) - np.std(grid_3.cv_results_[\"mean_test_score\"])\n",
    "    c2 = np.mean(grid_3.cv_results_[\"mean_test_score\"]) + np.std(grid_3.cv_results_[\"mean_test_score\"])\n",
    "\n",
    "    plt.plot(['hinge', 'modified_huber', 'log'], grid_3.cv_results_[\"mean_test_score\"])\n",
    "    plt.plot(['hinge', 'log'], [c1, c1],\n",
    "            linestyle = '--',\n",
    "            linewidth = 2,\n",
    "            color = 'orange')\n",
    "    plt.plot(['hinge', 'log'], [c2, c2],\n",
    "            linestyle = '--',\n",
    "            linewidth = 2,\n",
    "            color = 'orange')\n",
    "    plt.xlabel(\"Кол-во соседей\")\n",
    "    plt.ylabel(\"AUC-ROC\")\n",
    "    plt.figure(figsize=(5, 5))"
   ]
  },
  {
   "cell_type": "markdown",
   "metadata": {},
   "source": [
    "Что вы можете сказать о получившихся графиках?\n",
    "\n",
    "##### У knn с учвеличением кол-ва соседей точность уменьшается (начиная с 4). Есть единственный наилучший результат\n",
    "##### У Решающего дерева тоже имеется единственный наилучший результат\n",
    "##### SGDC получается веселая ситуация: ответы меняются от раза к разу -> нельзя выявить единственный наилучший гиперпараметр\n",
    "\n",
    "**Задание 3 (0.5 балла)** Также подберём число деревьев (*n_estimators*) в алгоритме RandomForest. Как известно, в общем случае Random Forest не переобучается с увеличением количества деревьев, так что при увеличении этого гиперпараметра его качество не будет становиться хуже. Поэтому подберите такое количество деревьев, при котором качество на кросс-валидации стабилизируется. Обратите внимание, что для проведения этого эксперимента не нужно с нуля обучать много случайных лесов с различными количествами деревьев. Обучите один случайный лес с максимальным интересным количеством деревьев, а затем рассмотрите подмножества разных размеров, состоящие из деревьев построенного леса (поле [*estimators_*](http://scikit-learn.org/stable/modules/generated/sklearn.ensemble.RandomForestClassifier.html)). В дальнейших экспериментах используйте это количество деревьев."
   ]
  },
  {
   "cell_type": "code",
   "execution_count": 12,
   "metadata": {},
   "outputs": [
    {
     "name": "stdout",
     "output_type": "stream",
     "text": [
      "Best n = 71.0000\n",
      "Best AUC-ROC = 0.8182\n"
     ]
    },
    {
     "data": {
      "text/plain": [
       "Text(0, 0.5, 'AUC-ROC')"
      ]
     },
     "execution_count": 12,
     "metadata": {},
     "output_type": "execute_result"
    },
    {
     "data": {
      "image/png": "[encoded data removed]",
      "text/plain": [
       "<Figure size 432x288 with 1 Axes>"
      ]
     },
     "metadata": {
      "needs_background": "light"
     },
     "output_type": "display_data"
    }
   ],
   "source": [
    "from sklearn.ensemble import RandomForestClassifier\n",
    "from sklearn.model_selection import cross_validate\n",
    "\n",
    "RFC = RandomForestClassifier()\n",
    "params_RFC = {'n_estimators': range(1, 90)}\n",
    "grid_RFC = GridSearchCV(RFC, params_RFC, cv=5, scoring='roc_auc')\n",
    "grid_RFC.fit(X, y)\n",
    "\n",
    "print(\"Best n = %.4f\" % grid_RFC.best_params_[\"n_estimators\"])\n",
    "print(\"Best AUC-ROC = %.4f\" % grid_RFC.best_score_)\n",
    "\n",
    "plt.plot(list(range(1, 90)), grid_RFC.cv_results_[\"mean_test_score\"])\n",
    "plt.xlabel(\"Кол-во деревьев\")\n",
    "plt.ylabel(\"AUC-ROC\")"
   ]
  },
  {
   "cell_type": "code",
   "execution_count": 14,
   "metadata": {},
   "outputs": [
    {
     "data": {
      "text/plain": [
       "array([0.68612144, 0.72403138, 0.75061937, 0.76291746, 0.77518833,\n",
       "       0.77887435, 0.78203322, 0.78577797, 0.79318978, 0.79108814,\n",
       "       0.79618369, 0.80142133, 0.8016132 , 0.8035277 , 0.80105759,\n",
       "       0.80573291, 0.80637166, 0.80324163, 0.80611105, 0.80784098,\n",
       "       0.80685099, 0.80728117, 0.80839802, 0.80612962, 0.80765656,\n",
       "       0.81072056, 0.80915125, 0.80997085, 0.81260435, 0.80974112,\n",
       "       0.81316343, 0.81193786, 0.81099051, 0.80994845, 0.81235634,\n",
       "       0.81254118, 0.8130069 , 0.81039875, 0.81587301, 0.81187403,\n",
       "       0.81193475, 0.81230796, 0.81371309, 0.81305038, 0.81411096,\n",
       "       0.81344052, 0.81549172, 0.81419776, 0.81362834, 0.81592337,\n",
       "       0.81554979, 0.81399264, 0.81369831, 0.81503635, 0.81432419,\n",
       "       0.81378403, 0.81350269, 0.81392617, 0.81489865, 0.81490912,\n",
       "       0.81605741, 0.81464219, 0.81587177, 0.81602556, 0.81542462,\n",
       "       0.81690266, 0.81515189, 0.81628801, 0.81572192, 0.81631165,\n",
       "       0.81824275, 0.81672455, 0.81615148, 0.81787235, 0.81693892,\n",
       "       0.81687477, 0.81579738, 0.81735999, 0.81589118, 0.8166095 ,\n",
       "       0.81727145, 0.81662778, 0.81665055, 0.81608341, 0.81758206,\n",
       "       0.81695794, 0.8178822 , 0.81620078, 0.81764486])"
      ]
     },
     "execution_count": 14,
     "metadata": {},
     "output_type": "execute_result"
    }
   ],
   "source": [
    "grid_RFC.cv_results_[\"mean_test_score\"]"
   ]
  },
  {
   "cell_type": "markdown",
   "metadata": {},
   "source": [
    "##### Сложно выбрать. Пусть кол-во деревьев равно 43 (значение, после которого все последующие результаты отличаются от наилучшего менее, чем на 0.005)"
   ]
  },
  {
   "cell_type": "markdown",
   "metadata": {},
   "source": [
    "**Задание 4 (0.5 балла)** Подберём число деревьев (*n_estimators*) в алгоритме GradientBoosting. Мы знаем, что ошибка бустинга на тестовых данных, как правило, имеет U-образную форму, то есть сначала уменьшается, а при достижении некоторого числа деревьев начинает расти. Нарисуйте график ошибки в зависимости от числа деревьев. Подберите n_estimators, соответствующий минимуму ошибки."
   ]
  },
  {
   "cell_type": "code",
   "execution_count": 15,
   "metadata": {},
   "outputs": [],
   "source": [
    "from sklearn.ensemble import GradientBoostingClassifier\n",
    "\n",
    "GBC = GradientBoostingClassifier()"
   ]
  },
  {
   "cell_type": "code",
   "execution_count": 17,
   "metadata": {},
   "outputs": [
    {
     "name": "stdout",
     "output_type": "stream",
     "text": [
      "Best n = 99\n",
      "Min Error = 0.1377723328474707\n"
     ]
    },
    {
     "data": {
      "text/plain": [
       "Text(0, 0.5, 'Error')"
      ]
     },
     "execution_count": 17,
     "metadata": {},
     "output_type": "execute_result"
    },
    {
     "data": {
      "image/png": "[encoded data removed]",
      "text/plain": [
       "<Figure size 432x288 with 1 Axes>"
      ]
     },
     "metadata": {
      "needs_background": "light"
     },
     "output_type": "display_data"
    }
   ],
   "source": [
    "GBC_err = []\n",
    "err_min = 1\n",
    "\n",
    "for i in range(1, 100):\n",
    "    GBC.n_estimators = i\n",
    "    cv_GBC = cross_validate(GBC,\n",
    "                     X,\n",
    "                     y,\n",
    "                     scoring='roc_auc',\n",
    "                     cv=5\n",
    "                    )\n",
    "    GBC_err.append(1 - cv_GBC['test_score'].mean())\n",
    "    if 1 - cv_GBC['test_score'].mean() < err_min:\n",
    "        GBC_best = i\n",
    "        err_min = 1 - cv_GBC['test_score'].mean()\n",
    "\n",
    "print(\"Best n =\", GBC_best)\n",
    "print(\"Min Error =\", err_min)\n",
    "\n",
    "plt.plot(list(range(1, 100)), GBC_err)\n",
    "plt.xlabel(\"Кол-во деревьев\")\n",
    "plt.ylabel(\"Error\")"
   ]
  },
  {
   "cell_type": "code",
   "execution_count": 145,
   "metadata": {},
   "outputs": [
    {
     "name": "stdout",
     "output_type": "stream",
     "text": [
      "Best n = 247\n",
      "Min Error = 0.13419059794363442\n"
     ]
    },
    {
     "data": {
      "text/plain": [
       "Text(0, 0.5, 'AUC-ROC')"
      ]
     },
     "execution_count": 145,
     "metadata": {},
     "output_type": "execute_result"
    },
    {
     "data": {
      "image/png": "[encoded data removed]",
      "text/plain": [
       "<Figure size 432x288 with 1 Axes>"
      ]
     },
     "metadata": {
      "needs_background": "light"
     },
     "output_type": "display_data"
    }
   ],
   "source": [
    "GBC = GradientBoostingClassifier()\n",
    "GBC_err = []\n",
    "err_min = 1\n",
    "\n",
    "for i in range(200, 250):\n",
    "    GBC.n_estimators = i\n",
    "    cv_GBC = cross_validate(GBC,\n",
    "                     X,\n",
    "                     y,\n",
    "                     scoring='roc_auc',\n",
    "                     cv=5\n",
    "                    )\n",
    "    GBC_err.append(1 - cv_GBC['test_score'].mean())\n",
    "    if 1 - cv_GBC['test_score'].mean() < err_min:\n",
    "        GBC_best = i\n",
    "        err_min = 1 - cv_GBC['test_score'].mean()\n",
    "\n",
    "print(\"Best n =\", GBC_best)\n",
    "print(\"Min Error =\", err_min)\n",
    "\n",
    "plt.plot(list(range(200, 250)), GBC_err)\n",
    "plt.xlabel(\"Кол-во деревьев\")\n",
    "plt.ylabel(\"Error\")"
   ]
  },
  {
   "cell_type": "code",
   "execution_count": 357,
   "metadata": {},
   "outputs": [
    {
     "name": "stdout",
     "output_type": "stream",
     "text": [
      "Best n = 289\n",
      "Min error = 0.13406358621648518\n"
     ]
    },
    {
     "data": {
      "text/plain": [
       "Text(0, 0.5, 'Error')"
      ]
     },
     "execution_count": 357,
     "metadata": {},
     "output_type": "execute_result"
    },
    {
     "data": {
      "image/png": "[encoded data removed]",
      "text/plain": [
       "<Figure size 432x288 with 1 Axes>"
      ]
     },
     "metadata": {
      "needs_background": "light"
     },
     "output_type": "display_data"
    }
   ],
   "source": [
    "GBC = GradientBoostingClassifier()\n",
    "params_GB = {'n_estimators': range(280, 290)}\n",
    "grid_GB = GridSearchCV(GBC, params_GB, cv=5, scoring='roc_auc')\n",
    "grid_GB.fit(X, y)\n",
    "\n",
    "print(\"Best n =\", grid_GB.best_params_[\"n_estimators\"])\n",
    "print(\"Min error =\", 1 - grid_GB.best_score_)\n",
    "\n",
    "plt.plot(list(range(280, 290)), 1 - grid_GB.cv_results_[\"mean_test_score\"])\n",
    "plt.xlabel(\"Кол-во деревьев\")\n",
    "plt.ylabel(\"Error\")"
   ]
  },
  {
   "cell_type": "code",
   "execution_count": 18,
   "metadata": {},
   "outputs": [
    {
     "name": "stdout",
     "output_type": "stream",
     "text": [
      "Best n = 298\n",
      "Min error = 0.13398738652831343\n"
     ]
    },
    {
     "data": {
      "text/plain": [
       "Text(0, 0.5, 'Error')"
      ]
     },
     "execution_count": 18,
     "metadata": {},
     "output_type": "execute_result"
    },
    {
     "data": {
      "image/png": "[encoded data removed]",
      "text/plain": [
       "<Figure size 432x288 with 1 Axes>"
      ]
     },
     "metadata": {
      "needs_background": "light"
     },
     "output_type": "display_data"
    }
   ],
   "source": [
    "GBC = GradientBoostingClassifier()\n",
    "params_GB = {'n_estimators': range(290, 300)}\n",
    "grid_GB = GridSearchCV(GBC, params_GB, cv=5, scoring='roc_auc')\n",
    "grid_GB.fit(X, y)\n",
    "\n",
    "print(\"Best n =\", grid_GB.best_params_[\"n_estimators\"])\n",
    "print(\"Min error =\", 1 - grid_GB.best_score_)\n",
    "\n",
    "plt.plot(list(range(290, 300)), 1 - grid_GB.cv_results_[\"mean_test_score\"])\n",
    "plt.xlabel(\"Кол-во деревьев\")\n",
    "plt.ylabel(\"Error\")"
   ]
  },
  {
   "cell_type": "code",
   "execution_count": 349,
   "metadata": {},
   "outputs": [
    {
     "name": "stdout",
     "output_type": "stream",
     "text": [
      "Best n = 300\n",
      "Min Error = 0.13404033773747293\n"
     ]
    },
    {
     "data": {
      "text/plain": [
       "Text(0, 0.5, 'Error')"
      ]
     },
     "execution_count": 349,
     "metadata": {},
     "output_type": "execute_result"
    },
    {
     "data": {
      "image/png": "[encoded data removed]",
      "text/plain": [
       "<Figure size 432x288 with 1 Axes>"
      ]
     },
     "metadata": {
      "needs_background": "light"
     },
     "output_type": "display_data"
    }
   ],
   "source": [
    "GBC = GradientBoostingClassifier()\n",
    "GBC_err = []\n",
    "err_min = 1\n",
    "\n",
    "for i in range(300, 310):\n",
    "    GBC.n_estimators = i\n",
    "    cv_GBC = cross_validate(GBC,\n",
    "                     X,\n",
    "                     y,\n",
    "                     scoring='roc_auc',\n",
    "                     cv=5\n",
    "                    )\n",
    "    GBC_err.append(1 - cv_GBC['test_score'].mean())\n",
    "    if 1 - cv_GBC['test_score'].mean() < err_min:\n",
    "        GBC_best = i\n",
    "        err_min = 1 - cv_GBC['test_score'].mean()\n",
    "\n",
    "print(\"Best n =\", GBC_best)\n",
    "print(\"Min Error =\", err_min)\n",
    "\n",
    "plt.plot(list(range(300, 310)), GBC_err)\n",
    "plt.xlabel(\"Кол-во деревьев\")\n",
    "plt.ylabel(\"Error\")"
   ]
  },
  {
   "cell_type": "code",
   "execution_count": 19,
   "metadata": {},
   "outputs": [
    {
     "name": "stdout",
     "output_type": "stream",
     "text": [
      "Best n = 310\n",
      "Min error = 0.13402674957088423\n"
     ]
    },
    {
     "data": {
      "text/plain": [
       "Text(0, 0.5, 'Error')"
      ]
     },
     "execution_count": 19,
     "metadata": {},
     "output_type": "execute_result"
    },
    {
     "data": {
      "image/png": "[encoded data removed]",
      "text/plain": [
       "<Figure size 432x288 with 1 Axes>"
      ]
     },
     "metadata": {
      "needs_background": "light"
     },
     "output_type": "display_data"
    }
   ],
   "source": [
    "GBC = GradientBoostingClassifier()\n",
    "params_GB = {'n_estimators': range(310, 315)}\n",
    "grid_GB = grid_3 = GridSearchCV(GBC, params_GB, cv=5, scoring='roc_auc')\n",
    "grid_GB.fit(X, y)\n",
    "\n",
    "print(\"Best n =\", grid_GB.best_params_[\"n_estimators\"])\n",
    "print(\"Min error =\", 1 - grid_GB.best_score_)\n",
    "\n",
    "plt.plot(list(range(310, 315)), 1 - grid_GB.cv_results_[\"mean_test_score\"])\n",
    "plt.xlabel(\"Кол-во деревьев\")\n",
    "plt.ylabel(\"Error\")"
   ]
  },
  {
   "cell_type": "code",
   "execution_count": 20,
   "metadata": {},
   "outputs": [
    {
     "name": "stdout",
     "output_type": "stream",
     "text": [
      "Best n = 320\n",
      "Min error = 0.13422243167667958\n"
     ]
    },
    {
     "data": {
      "text/plain": [
       "Text(0, 0.5, 'Error')"
      ]
     },
     "execution_count": 20,
     "metadata": {},
     "output_type": "execute_result"
    },
    {
     "data": {
      "image/png": "[encoded data removed]",
      "text/plain": [
       "<Figure size 432x288 with 1 Axes>"
      ]
     },
     "metadata": {
      "needs_background": "light"
     },
     "output_type": "display_data"
    }
   ],
   "source": [
    "GBC = GradientBoostingClassifier()\n",
    "params_GB = {'n_estimators': range(320, 325)}\n",
    "grid_GB = grid_3 = GridSearchCV(GBC, params_GB, cv=5, scoring='roc_auc')\n",
    "grid_GB.fit(X, y)\n",
    "\n",
    "print(\"Best n =\", grid_GB.best_params_[\"n_estimators\"])\n",
    "print(\"Min error =\", 1 - grid_GB.best_score_)\n",
    "\n",
    "plt.plot(list(range(320, 325)), 1 - grid_GB.cv_results_[\"mean_test_score\"])\n",
    "plt.xlabel(\"Кол-во деревьев\")\n",
    "plt.ylabel(\"Error\")"
   ]
  },
  {
   "cell_type": "markdown",
   "metadata": {},
   "source": [
    "### Мой компьютер не мог справится с задачей комплексно, поэтому пришлось разбивать на отрезки. Ответ: n_estimators = 298"
   ]
  },
  {
   "cell_type": "markdown",
   "metadata": {},
   "source": [
    "При обучении алгоритмов стоит обращать внимание не только на качество, но и каким образом они работают с данными. В этой задаче получилось так, что некоторые из используемых алгоритмов чувствительны к масштабу признаков. Чтобы убедиться, что это как-то могло повлиять на качество давайте посмотрим на сами признаки.\n",
    "\n",
    "**Задание 5 (0.5 балла)** Постройте гистограммы для признаков *age*, *fnlwgt*, *capital-gain*. Глядя на получившиеся графики в чем заключается особенность данных? На какие алгоритмы это может повлиять? Может ли масшитабирование повлиять на работу этих алгоритмов?"
   ]
  },
  {
   "cell_type": "code",
   "execution_count": 21,
   "metadata": {},
   "outputs": [
    {
     "data": {
      "text/plain": [
       "(array([2466., 2776., 2966., 3066., 1931., 1203.,  667.,  183.,   62.,\n",
       "          27.]),\n",
       " array([17. , 24.3, 31.6, 38.9, 46.2, 53.5, 60.8, 68.1, 75.4, 82.7, 90. ]),\n",
       " <BarContainer object of 10 artists>)"
      ]
     },
     "execution_count": 21,
     "metadata": {},
     "output_type": "execute_result"
    },
    {
     "data": {
      "image/png": "[encoded data removed]",
      "text/plain": [
       "<Figure size 432x288 with 1 Axes>"
      ]
     },
     "metadata": {
      "needs_background": "light"
     },
     "output_type": "display_data"
    }
   ],
   "source": [
    "plt.hist(df['age'])"
   ]
  },
  {
   "cell_type": "code",
   "execution_count": 22,
   "metadata": {},
   "outputs": [
    {
     "data": {
      "text/plain": [
       "(array([6.681e+03, 6.863e+03, 1.528e+03, 2.150e+02, 4.400e+01, 4.000e+00,\n",
       "        6.000e+00, 1.000e+00, 2.000e+00, 3.000e+00]),\n",
       " array([  19302. ,  165842.3,  312382.6,  458922.9,  605463.2,  752003.5,\n",
       "         898543.8, 1045084.1, 1191624.4, 1338164.7, 1484705. ]),\n",
       " <BarContainer object of 10 artists>)"
      ]
     },
     "execution_count": 22,
     "metadata": {},
     "output_type": "execute_result"
    },
    {
     "data": {
      "image/png": "[encoded data removed]",
      "text/plain": [
       "<Figure size 432x288 with 1 Axes>"
      ]
     },
     "metadata": {
      "needs_background": "light"
     },
     "output_type": "display_data"
    }
   ],
   "source": [
    "plt.hist(df['fnlwgt'])"
   ]
  },
  {
   "cell_type": "code",
   "execution_count": 23,
   "metadata": {},
   "outputs": [
    {
     "data": {
      "text/plain": [
       "(array([1.498e+04, 2.560e+02, 4.300e+01, 2.000e+00, 0.000e+00, 0.000e+00,\n",
       "        0.000e+00, 0.000e+00, 0.000e+00, 6.600e+01]),\n",
       " array([    0. ,  9999.9, 19999.8, 29999.7, 39999.6, 49999.5, 59999.4,\n",
       "        69999.3, 79999.2, 89999.1, 99999. ]),\n",
       " <BarContainer object of 10 artists>)"
      ]
     },
     "execution_count": 23,
     "metadata": {},
     "output_type": "execute_result"
    },
    {
     "data": {
      "image/png": "[encoded data removed]",
      "text/plain": [
       "<Figure size 432x288 with 1 Axes>"
      ]
     },
     "metadata": {
      "needs_background": "light"
     },
     "output_type": "display_data"
    }
   ],
   "source": [
    "plt.hist(df['capital-gain'])"
   ]
  },
  {
   "cell_type": "markdown",
   "metadata": {},
   "source": [
    "#### Некоторые данные сильно различаются по масштабу. Особенно значение \"age\", которое измеряется в десятках и \"'fnlwgt\", измеряемое в миллионах -> нужно масштабирование. Масштабирование должно положительно повлиять на модели Knn и SGDC. Деревья и бустинг в целом безразличны к масштабу данных."
   ]
  },
  {
   "cell_type": "markdown",
   "metadata": {},
   "source": [
    "Масштабирование признаков можно выполнить, например, одним из следующих способов способами:\n",
    " - $x_{new} = \\dfrac{x - \\mu}{\\sigma}$, где $\\mu, \\sigma$ — среднее и стандартное отклонение значения признака по всей выборке (см. функцию [scale](http://scikit-learn.org/stable/modules/generated/sklearn.preprocessing.scale.html))\n",
    " - $x_{new} = \\dfrac{x - x_{min}}{x_{max} - x_{min}}$, где $[x_{min}, x_{max}]$ — минимальный интервал значений признака\n",
    "\n",
    "Похожие схемы масштабирования приведены в классах [StandardScaler](http://scikit-learn.org/stable/modules/generated/sklearn.preprocessing.StandardScaler.html#sklearn.preprocessing.StandardScaler) и [MinMaxScaler](http://scikit-learn.org/stable/modules/generated/sklearn.preprocessing.MinMaxScaler.html#sklearn.preprocessing.MinMaxScaler).\n",
    " \n",
    "**Задание 6 (1 балл)** Масштабируйте все вещественные признаки одним из указанных способов и подберите оптимальные значения гиперпараметров аналогично пункту выше."
   ]
  },
  {
   "cell_type": "code",
   "execution_count": 16,
   "metadata": {},
   "outputs": [
    {
     "name": "stdout",
     "output_type": "stream",
     "text": [
      "Best k = 39.0000\n",
      "Best AUC-ROC = 0.8342\n"
     ]
    },
    {
     "data": {
      "text/plain": [
       "<Figure size 1440x1440 with 0 Axes>"
      ]
     },
     "execution_count": 16,
     "metadata": {},
     "output_type": "execute_result"
    },
    {
     "data": {
      "image/png": "[encoded data removed]",
      "text/plain": [
       "<Figure size 432x288 with 1 Axes>"
      ]
     },
     "metadata": {
      "needs_background": "light"
     },
     "output_type": "display_data"
    },
    {
     "data": {
      "text/plain": [
       "<Figure size 1440x1440 with 0 Axes>"
      ]
     },
     "metadata": {},
     "output_type": "display_data"
    }
   ],
   "source": [
    "from sklearn.preprocessing import StandardScaler\n",
    "\n",
    "scaler = StandardScaler()\n",
    "X_sc = scaler.fit_transform(X)\n",
    "\n",
    "knn = KNeighborsClassifier()\n",
    "params = {'n_neighbors': range(1, 80)}\n",
    "grid_4 = GridSearchCV(knn, params, cv=5, scoring='roc_auc')\n",
    "grid_4.fit(X_sc, y)\n",
    "\n",
    "print(\"Best k = %.4f\" % grid_4.best_params_[\"n_neighbors\"])\n",
    "print(\"Best AUC-ROC = %.4f\" % grid_4.best_score_)\n",
    "\n",
    "a1 = np.mean(grid_4.cv_results_[\"mean_test_score\"]) - np.std(grid_4.cv_results_[\"mean_test_score\"])\n",
    "a2 = np.mean(grid_4.cv_results_[\"mean_test_score\"]) + np.std(grid_4.cv_results_[\"mean_test_score\"])\n",
    "\n",
    "plt.plot(list(range(1, 80)), grid_4.cv_results_[\"mean_test_score\"])\n",
    "plt.plot([0, 80], [a1, a1], \n",
    "        linestyle = '--',\n",
    "        linewidth = 2,\n",
    "        color = 'orange')\n",
    "plt.plot([0, 80], [a2, a2], \n",
    "        linestyle = '--',\n",
    "        linewidth = 2,\n",
    "        color = 'orange')\n",
    "plt.xlabel(\"Кол-во соседей\")\n",
    "plt.ylabel(\"AUC-ROC\")\n",
    "plt.figure(figsize=(20, 20))"
   ]
  },
  {
   "cell_type": "code",
   "execution_count": 17,
   "metadata": {},
   "outputs": [
    {
     "name": "stdout",
     "output_type": "stream",
     "text": [
      "Best depth = 7.0000\n",
      "Best AUC-ROC = 0.8415\n"
     ]
    },
    {
     "data": {
      "text/plain": [
       "<Figure size 1440x1440 with 0 Axes>"
      ]
     },
     "execution_count": 17,
     "metadata": {},
     "output_type": "execute_result"
    },
    {
     "data": {
      "image/png": "[encoded data removed]",
      "text/plain": [
       "<Figure size 432x288 with 1 Axes>"
      ]
     },
     "metadata": {
      "needs_background": "light"
     },
     "output_type": "display_data"
    },
    {
     "data": {
      "text/plain": [
       "<Figure size 1440x1440 with 0 Axes>"
      ]
     },
     "metadata": {},
     "output_type": "display_data"
    }
   ],
   "source": [
    "DC = DecisionTreeClassifier()\n",
    "params_2 = {'max_depth': range(1, 14)}\n",
    "grid_5 = GridSearchCV(DC, params_2, cv=5, scoring='roc_auc')\n",
    "grid_5.fit(X_sc, y)\n",
    "\n",
    "print(\"Best depth = %.4f\" % grid_5.best_params_[\"max_depth\"])\n",
    "print(\"Best AUC-ROC = %.4f\" % grid_5.best_score_)\n",
    "\n",
    "b1 = np.mean(grid_5.cv_results_[\"mean_test_score\"]) - np.std(grid_5.cv_results_[\"mean_test_score\"])\n",
    "b2 = np.mean(grid_5.cv_results_[\"mean_test_score\"]) + np.std(grid_5.cv_results_[\"mean_test_score\"])\n",
    "\n",
    "plt.plot(list(range(1, 14)), grid_5.cv_results_[\"mean_test_score\"])\n",
    "plt.plot([0, 14], [b1, b1], \n",
    "        linestyle = '--',\n",
    "        linewidth = 2,\n",
    "        color = 'orange')\n",
    "plt.plot([0, 14], [b2, b2],\n",
    "        linestyle = '--',\n",
    "        linewidth = 2,\n",
    "        color = 'orange')\n",
    "plt.xlabel(\"Глубина дерева\")\n",
    "plt.ylabel(\"AUC-ROC\")\n",
    "plt.figure(figsize=(20, 20))"
   ]
  },
  {
   "cell_type": "code",
   "execution_count": 18,
   "metadata": {},
   "outputs": [
    {
     "name": "stdout",
     "output_type": "stream",
     "text": [
      "Best loss = log\n",
      "Best AUC-ROC = 0.8210\n",
      "Best loss = log\n",
      "Best AUC-ROC = 0.8205\n",
      "Best loss = log\n",
      "Best AUC-ROC = 0.8213\n",
      "Best loss = log\n",
      "Best AUC-ROC = 0.8196\n",
      "Best loss = log\n",
      "Best AUC-ROC = 0.8194\n",
      "Best loss = log\n",
      "Best AUC-ROC = 0.8221\n",
      "Best loss = log\n",
      "Best AUC-ROC = 0.8202\n"
     ]
    },
    {
     "data": {
      "image/png": "[encoded data removed]",
      "text/plain": [
       "<Figure size 432x288 with 1 Axes>"
      ]
     },
     "metadata": {
      "needs_background": "light"
     },
     "output_type": "display_data"
    },
    {
     "data": {
      "image/png": "[encoded data removed]",
      "text/plain": [
       "<Figure size 360x360 with 1 Axes>"
      ]
     },
     "metadata": {
      "needs_background": "light"
     },
     "output_type": "display_data"
    },
    {
     "data": {
      "image/png": "[encoded data removed]",
      "text/plain": [
       "<Figure size 360x360 with 1 Axes>"
      ]
     },
     "metadata": {
      "needs_background": "light"
     },
     "output_type": "display_data"
    },
    {
     "data": {
      "image/png": "[encoded data removed]",
      "text/plain": [
       "<Figure size 360x360 with 1 Axes>"
      ]
     },
     "metadata": {
      "needs_background": "light"
     },
     "output_type": "display_data"
    },
    {
     "data": {
      "image/png": "[encoded data removed]",
      "text/plain": [
       "<Figure size 360x360 with 1 Axes>"
      ]
     },
     "metadata": {
      "needs_background": "light"
     },
     "output_type": "display_data"
    },
    {
     "data": {
      "image/png": "[encoded data removed]",
      "text/plain": [
       "<Figure size 360x360 with 1 Axes>"
      ]
     },
     "metadata": {
      "needs_background": "light"
     },
     "output_type": "display_data"
    },
    {
     "data": {
      "image/png": "[encoded data removed]",
      "text/plain": [
       "<Figure size 360x360 with 1 Axes>"
      ]
     },
     "metadata": {
      "needs_background": "light"
     },
     "output_type": "display_data"
    },
    {
     "data": {
      "text/plain": [
       "<Figure size 360x360 with 0 Axes>"
      ]
     },
     "metadata": {},
     "output_type": "display_data"
    }
   ],
   "source": [
    "SL = SGDClassifier()\n",
    "params_3 = {'loss': ['hinge', 'modified_huber', 'log']}\n",
    "for i in range(1, 8):\n",
    "    grid_6 = GridSearchCV(SL, params_3, cv=5, scoring='roc_auc')\n",
    "    grid_6.fit(X_sc, y)\n",
    "\n",
    "    print(\"Best loss =\", grid_6.best_params_[\"loss\"])\n",
    "    print(\"Best AUC-ROC = %.4f\" % grid_6.best_score_)\n",
    "    \n",
    "    c1 = np.mean(grid_6.cv_results_[\"mean_test_score\"]) - np.std(grid_6.cv_results_[\"mean_test_score\"])\n",
    "    c2 = np.mean(grid_6.cv_results_[\"mean_test_score\"]) + np.std(grid_6.cv_results_[\"mean_test_score\"])\n",
    "\n",
    "    plt.plot(['hinge', 'modified_huber', 'log'], grid_6.cv_results_[\"mean_test_score\"])\n",
    "    plt.plot(['hinge', 'log'], [c1, c1],\n",
    "            linestyle = '--',\n",
    "            linewidth = 2,\n",
    "            color = 'orange')\n",
    "    plt.plot(['hinge', 'log'], [c2, c2],\n",
    "            linestyle = '--',\n",
    "            linewidth = 2,\n",
    "            color = 'orange')\n",
    "    plt.xlabel(\"Метрика\")\n",
    "    plt.ylabel(\"AUC-ROC\")\n",
    "    plt.figure(figsize=(5, 5))"
   ]
  },
  {
   "cell_type": "code",
   "execution_count": 27,
   "metadata": {},
   "outputs": [
    {
     "name": "stdout",
     "output_type": "stream",
     "text": [
      "Best n = 74.0000\n",
      "Best AUC-ROC = 0.8181\n"
     ]
    },
    {
     "data": {
      "text/plain": [
       "Text(0, 0.5, 'AUC-ROC')"
      ]
     },
     "execution_count": 27,
     "metadata": {},
     "output_type": "execute_result"
    },
    {
     "data": {
      "image/png": "[encoded data removed]",
      "text/plain": [
       "<Figure size 432x288 with 1 Axes>"
      ]
     },
     "metadata": {
      "needs_background": "light"
     },
     "output_type": "display_data"
    }
   ],
   "source": [
    "RFC = RandomForestClassifier()\n",
    "params_RFC = {'n_estimators': range(1, 90)}\n",
    "grid_RFC = GridSearchCV(RFC, params_RFC, cv=5, scoring='roc_auc')\n",
    "grid_RFC.fit(X_sc, y)\n",
    "\n",
    "print(\"Best n = %.4f\" % grid_RFC.best_params_[\"n_estimators\"])\n",
    "print(\"Best AUC-ROC = %.4f\" % grid_RFC.best_score_)\n",
    "\n",
    "plt.plot(list(range(1, 90)), grid_RFC.cv_results_[\"mean_test_score\"])\n",
    "plt.xlabel(\"Кол-во деревьев\")\n",
    "plt.ylabel(\"AUC-ROC\")"
   ]
  },
  {
   "cell_type": "code",
   "execution_count": 28,
   "metadata": {
    "scrolled": true
   },
   "outputs": [
    {
     "data": {
      "text/plain": [
       "array([0.67950413, 0.72981848, 0.74850626, 0.76328208, 0.77457235,\n",
       "       0.77924838, 0.77835817, 0.79403674, 0.79185122, 0.79289375,\n",
       "       0.79693463, 0.79849112, 0.80129747, 0.80061913, 0.80092308,\n",
       "       0.80394088, 0.80683215, 0.80630988, 0.80459   , 0.80712862,\n",
       "       0.80931327, 0.80710095, 0.80715819, 0.80809504, 0.80950465,\n",
       "       0.81025709, 0.81150497, 0.81077325, 0.81000273, 0.8122033 ,\n",
       "       0.81185677, 0.81220046, 0.81300934, 0.80990466, 0.81110966,\n",
       "       0.8123981 , 0.81252299, 0.81446666, 0.81282291, 0.81329993,\n",
       "       0.81153203, 0.81517655, 0.81192934, 0.81430146, 0.81525786,\n",
       "       0.8161839 , 0.81240803, 0.81539069, 0.81388271, 0.8145854 ,\n",
       "       0.81458814, 0.8143841 , 0.81428541, 0.81450489, 0.81584263,\n",
       "       0.81472391, 0.81486789, 0.81556239, 0.81388793, 0.81607559,\n",
       "       0.81469526, 0.81612541, 0.81607098, 0.81600467, 0.81623373,\n",
       "       0.81801101, 0.81632412, 0.81581473, 0.8170653 , 0.81606   ,\n",
       "       0.81574065, 0.81495603, 0.81656194, 0.81812599, 0.81687217,\n",
       "       0.81711184, 0.81635769, 0.81749613, 0.81627987, 0.81494964,\n",
       "       0.81708832, 0.81705644, 0.81769501, 0.81666415, 0.8168629 ,\n",
       "       0.8161749 , 0.81713831, 0.81692973, 0.81757741])"
      ]
     },
     "execution_count": 28,
     "metadata": {},
     "output_type": "execute_result"
    }
   ],
   "source": [
    "grid_RFC.cv_results_[\"mean_test_score\"]"
   ]
  },
  {
   "cell_type": "markdown",
   "metadata": {},
   "source": [
    "##### Ответ 47 подходит под придуманный мной критерий"
   ]
  },
  {
   "cell_type": "code",
   "execution_count": 29,
   "metadata": {},
   "outputs": [
    {
     "name": "stdout",
     "output_type": "stream",
     "text": [
      "Best n = 298\n",
      "Min error = 0.13395645324443795\n"
     ]
    }
   ],
   "source": [
    "GBC = GradientBoostingClassifier()\n",
    "params_GB = {'n_estimators': range(290, 310)}\n",
    "grid_GB = GridSearchCV(GBC, params_GB, cv=5, scoring='roc_auc')\n",
    "grid_GB.fit(X_sc, y)\n",
    "\n",
    "print(\"Best n =\", grid_GB.best_params_[\"n_estimators\"])\n",
    "print(\"Min error =\", 1 - grid_GB.best_score_)"
   ]
  },
  {
   "cell_type": "markdown",
   "metadata": {},
   "source": [
    "Изменилось ли качество у некоторых алгоритмов?\n",
    "### Knn и SGDC как и предполагалось улучшились, остальные - значимо не изменились"
   ]
  },
  {
   "cell_type": "markdown",
   "metadata": {},
   "source": [
    "**Задание 7 (1.25 балла)** Теперь сделайте перебор нескольких гиперпараметров по сетке и найдите оптимальные комбинации (лучшее среднее значение качества) для каждого алгоритма в данном случае: \n",
    " - KNN — число соседей (*n_neighbors*) и метрика (*metric*)\n",
    " - DecisonTree — глубина дерева (*max_depth*) и критерий разбиения (*criterion*)\n",
    " - RandomForest — критерий разбиения в деревьях (*criterion*) и *max_features* (при фиксированном количестве деревьев, найденном ранее)\n",
    " - GradientBoosting — критерий разбиения в деревьях (*criterion*) и *max_features* (при фиксированном количестве деревьев, найденном ранее)\n",
    " - SGDClassifier — оптимизируемая функция (*loss*) и *penalty*\n",
    " \n",
    "Обратите внимание, что эта операция может быть ресурсо- и трудоемкой. Как оптимизировать подбор параметров по сетке сказано в разделе \"Подбор гиперпараметров модели\""
   ]
  },
  {
   "cell_type": "code",
   "execution_count": 30,
   "metadata": {},
   "outputs": [
    {
     "name": "stdout",
     "output_type": "stream",
     "text": [
      "Best k = 41.0000\n",
      "Best metric = manhattan\n",
      "Best AUC-ROC = 0.8345\n"
     ]
    }
   ],
   "source": [
    "knn = KNeighborsClassifier()\n",
    "params = {'n_neighbors': range(3, 50),\n",
    "         'metric': ['euclidean', 'manhattan', 'chebyshev', 'minkowski', 'wminkowski', 'seuclidean', 'mahalanobis']}\n",
    "grid_7 = GridSearchCV(knn, params, cv=5, scoring='roc_auc')\n",
    "grid_7.fit(X_sc, y)\n",
    "\n",
    "print(\"Best k = %.4f\" % grid_7.best_params_[\"n_neighbors\"])\n",
    "print(\"Best metric =\", grid_7.best_params_[\"metric\"])\n",
    "print(\"Best AUC-ROC = %.4f\" % grid_7.best_score_)"
   ]
  },
  {
   "cell_type": "code",
   "execution_count": 31,
   "metadata": {},
   "outputs": [
    {
     "name": "stdout",
     "output_type": "stream",
     "text": [
      "Best depth = 8.0000\n",
      "Best criterion = entropy\n",
      "Best AUC-ROC = 0.8420\n"
     ]
    }
   ],
   "source": [
    "DC = DecisionTreeClassifier()\n",
    "params_2 = {'max_depth': range(1, 10),\n",
    "           'criterion': ['gini', 'entropy']}\n",
    "grid_8 = GridSearchCV(DC, params_2, cv=5, scoring='roc_auc')\n",
    "grid_8.fit(X_sc, y)\n",
    "\n",
    "print(\"Best depth = %.4f\" % grid_8.best_params_[\"max_depth\"])\n",
    "print(\"Best criterion =\", grid_8.best_params_[\"criterion\"])\n",
    "print(\"Best AUC-ROC = %.4f\" % grid_8.best_score_)"
   ]
  },
  {
   "cell_type": "code",
   "execution_count": 33,
   "metadata": {},
   "outputs": [
    {
     "name": "stdout",
     "output_type": "stream",
     "text": [
      "Best loss = log\n",
      "Best penalty = l1\n",
      "Best AUC-ROC = 0.8197\n",
      "------------------------------------------\n",
      "Best loss = log\n",
      "Best penalty = elasticnet\n",
      "Best AUC-ROC = 0.8238\n",
      "------------------------------------------\n",
      "Best loss = log\n",
      "Best penalty = l1\n",
      "Best AUC-ROC = 0.8230\n",
      "------------------------------------------\n",
      "Best loss = log\n",
      "Best penalty = elasticnet\n",
      "Best AUC-ROC = 0.8213\n",
      "------------------------------------------\n",
      "Best loss = log\n",
      "Best penalty = l1\n",
      "Best AUC-ROC = 0.8225\n",
      "------------------------------------------\n",
      "Best loss = log\n",
      "Best penalty = l1\n",
      "Best AUC-ROC = 0.8236\n",
      "------------------------------------------\n",
      "Best loss = log\n",
      "Best penalty = elasticnet\n",
      "Best AUC-ROC = 0.8214\n",
      "------------------------------------------\n"
     ]
    }
   ],
   "source": [
    "SL = SGDClassifier()\n",
    "params_3 = {'loss': ['hinge', 'modified_huber', 'log'],\n",
    "           'penalty': ['l2', 'l1', 'elasticnet']}\n",
    "for i in range(1, 8):\n",
    "    grid_9 = GridSearchCV(SL, params_3, cv=5, scoring='roc_auc')\n",
    "    grid_9.fit(X_sc, y)\n",
    "\n",
    "    print(\"Best loss =\", grid_9.best_params_[\"loss\"])\n",
    "    print(\"Best penalty =\", grid_9.best_params_[\"penalty\"])\n",
    "    print(\"Best AUC-ROC = %.4f\" % grid_9.best_score_)\n",
    "    print('------------------------------------------')"
   ]
  },
  {
   "cell_type": "markdown",
   "metadata": {},
   "source": [
    "#### Опять-таки разные выводы при каждом запуске -> возьму l1 как самую часто встречающуюся"
   ]
  },
  {
   "cell_type": "code",
   "execution_count": 19,
   "metadata": {},
   "outputs": [
    {
     "name": "stdout",
     "output_type": "stream",
     "text": [
      "Best n = entropy\n",
      "Best n = auto\n",
      "Best AUC-ROC = 0.8151\n"
     ]
    }
   ],
   "source": [
    "RFC = RandomForestClassifier(n_estimators = 47)\n",
    "params_4 = {'criterion': ['gini', 'entropy'],\n",
    "           'max_features': ['auto', 'sqrt', 'log2']}\n",
    "grid_10 = GridSearchCV(RFC, params_4, cv=5, scoring='roc_auc')\n",
    "grid_10.fit(X_sc, y)\n",
    "\n",
    "print(\"Best n =\", grid_10.best_params_[\"criterion\"])\n",
    "print(\"Best n =\", grid_10.best_params_[\"max_features\"])\n",
    "print(\"Best AUC-ROC = %.4f\" % grid_10.best_score_)"
   ]
  },
  {
   "cell_type": "code",
   "execution_count": 169,
   "metadata": {},
   "outputs": [
    {
     "name": "stdout",
     "output_type": "stream",
     "text": [
      "Best criterion = mse\n",
      "Best n = sqrt\n",
      "Min Error =  0.15926607430299222\n",
      "Max AUC-ROC = 0.8407339256970078\n"
     ]
    }
   ],
   "source": [
    "GBC = GradientBoostingClassifier(n_estimators = 10)\n",
    "params_5 = {'criterion': ['friedman_mse', 'squared_error', 'mse', 'mae'],\n",
    "           'max_features': ['sqrt', 'log2']}\n",
    "grid_11 = GridSearchCV(GBC, params_5, cv=5, scoring='roc_auc')\n",
    "grid_11.fit(X_sc, y)\n",
    "\n",
    "print(\"Best criterion =\", grid_11.best_params_[\"criterion\"])\n",
    "print(\"Best n =\", grid_11.best_params_[\"max_features\"])\n",
    "print(\"Min Error = \", 1 - grid_11.best_score_)\n",
    "print('Max AUC-ROC =', grid_11.best_score_)"
   ]
  },
  {
   "cell_type": "markdown",
   "metadata": {},
   "source": [
    "Какой из алгоритмов имеет наилучшее качество? \n",
    "### Лучшее качество у дерева и бустинга\n",
    "\n",
    "**Задание 8 (0.5 балла)** Сравните алгоритмы с точки зрения времени обучения. Обучение какого из алгоритмов работает дольше всего и, как вы думаете, почему?"
   ]
  },
  {
   "cell_type": "code",
   "execution_count": 104,
   "metadata": {},
   "outputs": [
    {
     "name": "stdout",
     "output_type": "stream",
     "text": [
      "Время Knn = 0.13771553039550782\n",
      "Время DecisonTree = 0.027982282638549804\n",
      "Время SGDClassifier = 0.0459714412689209\n",
      "Время RandomForestClassifier = 0.7397459506988525\n",
      "Время GradientBoostingClassifier = 1.3126967906951905\n"
     ]
    }
   ],
   "source": [
    "time_knn = cross_validate(KNeighborsClassifier(n_neighbors=41, metric='manhattan'), X_sc, y, cv=5, scoring='roc_auc')['fit_time'].mean()\n",
    "time_DC = cross_validate(DecisionTreeClassifier(max_depth=8, criterion='entropy'), X_sc, y, cv=5, scoring='roc_auc')['fit_time'].mean()\n",
    "time_SL = cross_validate(SGDClassifier(loss='log', penalty='l1'), X_sc, y, cv=5, scoring='roc_auc')['fit_time'].mean()\n",
    "time_RFC = cross_validate(RandomForestClassifier(n_estimators = 47, criterion='entropy', max_features='sqrt'), X_sc, y, cv=5, scoring='roc_auc')['fit_time'].mean()\n",
    "time_GBC = cross_validate(GradientBoostingClassifier(n_estimators = 298, criterion='friedman_mse', max_features='sqrt'), X_sc, y, cv=5, scoring='roc_auc')['fit_time'].mean()\n",
    "print('Время Knn =', time_knn)\n",
    "print('Время DecisonTree =', time_DC)\n",
    "print('Время SGDClassifier =', time_SL)\n",
    "print('Время RandomForestClassifier =', time_RFC)\n",
    "print('Время GradientBoostingClassifier =', time_GBC)"
   ]
  },
  {
   "cell_type": "markdown",
   "metadata": {},
   "source": [
    "### GradientBoostingClassifier - самый долгий вследствие своей сложности и большого значения гиперпараметра\n",
    "### DecisionTreeClassifier работает быстрее всех, так как выводит принятие решений на основе простых правил, исходя из характеристик данных."
   ]
  },
  {
   "cell_type": "markdown",
   "metadata": {},
   "source": [
    "## Добавление категориальных признаков в модели\n",
    "\n",
    "Пока мы не использовали нечисловые признаки, которые есть в датасете. Давайте посмотрим, правильно ли мы сделали и увеличится ли качество моделей после добавлениях этих признаков. \n",
    "\n",
    "**Задание 9 (0.5 балла)** Преобразуйте все категориальные признаки с помощью метода one-hot-encoding (например, это можно сделать с помощью функции [OneHotEncoder](https://scikit-learn.org/stable/modules/generated/sklearn.preprocessing.OneHotEncoder.html), [pandas.get_dummies](http://pandas.pydata.org/pandas-docs/stable/generated/pandas.get_dummies.html) или [DictVectorizer](http://scikit-learn.org/stable/modules/generated/sklearn.feature_extraction.DictVectorizer.html) из sklearn)."
   ]
  },
  {
   "cell_type": "code",
   "execution_count": 25,
   "metadata": {},
   "outputs": [
    {
     "data": {
      "text/html": [
       "<div>\n",
       "<style scoped>\n",
       "    .dataframe tbody tr th:only-of-type {\n",
       "        vertical-align: middle;\n",
       "    }\n",
       "\n",
       "    .dataframe tbody tr th {\n",
       "        vertical-align: top;\n",
       "    }\n",
       "\n",
       "    .dataframe thead th {\n",
       "        text-align: right;\n",
       "    }\n",
       "</style>\n",
       "<table border=\"1\" class=\"dataframe\">\n",
       "  <thead>\n",
       "    <tr style=\"text-align: right;\">\n",
       "      <th></th>\n",
       "      <th>0</th>\n",
       "      <th>1</th>\n",
       "      <th>2</th>\n",
       "      <th>3</th>\n",
       "      <th>4</th>\n",
       "      <th>5</th>\n",
       "      <th>workclass_Federal-gov</th>\n",
       "      <th>workclass_Local-gov</th>\n",
       "      <th>workclass_Never-worked</th>\n",
       "      <th>workclass_Private</th>\n",
       "      <th>...</th>\n",
       "      <th>relationship_Wife</th>\n",
       "      <th>race_Amer-Indian-Eskimo</th>\n",
       "      <th>race_Asian-Pac-Islander</th>\n",
       "      <th>race_Black</th>\n",
       "      <th>race_Other</th>\n",
       "      <th>race_White</th>\n",
       "      <th>sex_Female</th>\n",
       "      <th>sex_Male</th>\n",
       "      <th>&gt;50K,&lt;=50K_&lt;=50K</th>\n",
       "      <th>&gt;50K,&lt;=50K_&gt;50K</th>\n",
       "    </tr>\n",
       "  </thead>\n",
       "  <tbody>\n",
       "    <tr>\n",
       "      <th>0</th>\n",
       "      <td>-0.342919</td>\n",
       "      <td>0.900258</td>\n",
       "      <td>-0.450788</td>\n",
       "      <td>-0.065600</td>\n",
       "      <td>-0.218740</td>\n",
       "      <td>1.588223</td>\n",
       "      <td>0</td>\n",
       "      <td>1</td>\n",
       "      <td>0</td>\n",
       "      <td>0</td>\n",
       "      <td>...</td>\n",
       "      <td>0</td>\n",
       "      <td>0</td>\n",
       "      <td>0</td>\n",
       "      <td>1</td>\n",
       "      <td>0</td>\n",
       "      <td>0</td>\n",
       "      <td>0</td>\n",
       "      <td>1</td>\n",
       "      <td>1</td>\n",
       "      <td>0</td>\n",
       "    </tr>\n",
       "    <tr>\n",
       "      <th>1</th>\n",
       "      <td>0.114760</td>\n",
       "      <td>0.010683</td>\n",
       "      <td>-0.059086</td>\n",
       "      <td>-0.150439</td>\n",
       "      <td>-0.218740</td>\n",
       "      <td>-0.074178</td>\n",
       "      <td>0</td>\n",
       "      <td>0</td>\n",
       "      <td>0</td>\n",
       "      <td>1</td>\n",
       "      <td>...</td>\n",
       "      <td>0</td>\n",
       "      <td>0</td>\n",
       "      <td>0</td>\n",
       "      <td>0</td>\n",
       "      <td>0</td>\n",
       "      <td>1</td>\n",
       "      <td>0</td>\n",
       "      <td>1</td>\n",
       "      <td>1</td>\n",
       "      <td>0</td>\n",
       "    </tr>\n",
       "    <tr>\n",
       "      <th>2</th>\n",
       "      <td>-0.190359</td>\n",
       "      <td>-0.106280</td>\n",
       "      <td>1.116020</td>\n",
       "      <td>-0.150439</td>\n",
       "      <td>-0.218740</td>\n",
       "      <td>-0.074178</td>\n",
       "      <td>0</td>\n",
       "      <td>1</td>\n",
       "      <td>0</td>\n",
       "      <td>0</td>\n",
       "      <td>...</td>\n",
       "      <td>0</td>\n",
       "      <td>0</td>\n",
       "      <td>0</td>\n",
       "      <td>0</td>\n",
       "      <td>0</td>\n",
       "      <td>1</td>\n",
       "      <td>0</td>\n",
       "      <td>1</td>\n",
       "      <td>1</td>\n",
       "      <td>0</td>\n",
       "    </tr>\n",
       "    <tr>\n",
       "      <th>3</th>\n",
       "      <td>-1.258276</td>\n",
       "      <td>-0.041382</td>\n",
       "      <td>-0.059086</td>\n",
       "      <td>-0.150439</td>\n",
       "      <td>-0.218740</td>\n",
       "      <td>-0.905379</td>\n",
       "      <td>0</td>\n",
       "      <td>0</td>\n",
       "      <td>0</td>\n",
       "      <td>1</td>\n",
       "      <td>...</td>\n",
       "      <td>0</td>\n",
       "      <td>0</td>\n",
       "      <td>0</td>\n",
       "      <td>0</td>\n",
       "      <td>0</td>\n",
       "      <td>1</td>\n",
       "      <td>1</td>\n",
       "      <td>0</td>\n",
       "      <td>1</td>\n",
       "      <td>0</td>\n",
       "    </tr>\n",
       "    <tr>\n",
       "      <th>4</th>\n",
       "      <td>0.648719</td>\n",
       "      <td>-0.371197</td>\n",
       "      <td>1.116020</td>\n",
       "      <td>1.995391</td>\n",
       "      <td>-0.218740</td>\n",
       "      <td>-0.074178</td>\n",
       "      <td>0</td>\n",
       "      <td>0</td>\n",
       "      <td>0</td>\n",
       "      <td>1</td>\n",
       "      <td>...</td>\n",
       "      <td>0</td>\n",
       "      <td>0</td>\n",
       "      <td>0</td>\n",
       "      <td>0</td>\n",
       "      <td>0</td>\n",
       "      <td>1</td>\n",
       "      <td>0</td>\n",
       "      <td>1</td>\n",
       "      <td>0</td>\n",
       "      <td>1</td>\n",
       "    </tr>\n",
       "    <tr>\n",
       "      <th>...</th>\n",
       "      <td>...</td>\n",
       "      <td>...</td>\n",
       "      <td>...</td>\n",
       "      <td>...</td>\n",
       "      <td>...</td>\n",
       "      <td>...</td>\n",
       "      <td>...</td>\n",
       "      <td>...</td>\n",
       "      <td>...</td>\n",
       "      <td>...</td>\n",
       "      <td>...</td>\n",
       "      <td>...</td>\n",
       "      <td>...</td>\n",
       "      <td>...</td>\n",
       "      <td>...</td>\n",
       "      <td>...</td>\n",
       "      <td>...</td>\n",
       "      <td>...</td>\n",
       "      <td>...</td>\n",
       "      <td>...</td>\n",
       "      <td>...</td>\n",
       "    </tr>\n",
       "    <tr>\n",
       "      <th>15342</th>\n",
       "      <td>-1.029436</td>\n",
       "      <td>3.062953</td>\n",
       "      <td>1.116020</td>\n",
       "      <td>-0.150439</td>\n",
       "      <td>-0.218740</td>\n",
       "      <td>-0.074178</td>\n",
       "      <td>0</td>\n",
       "      <td>0</td>\n",
       "      <td>0</td>\n",
       "      <td>1</td>\n",
       "      <td>...</td>\n",
       "      <td>0</td>\n",
       "      <td>0</td>\n",
       "      <td>0</td>\n",
       "      <td>0</td>\n",
       "      <td>0</td>\n",
       "      <td>1</td>\n",
       "      <td>0</td>\n",
       "      <td>1</td>\n",
       "      <td>1</td>\n",
       "      <td>0</td>\n",
       "    </tr>\n",
       "    <tr>\n",
       "      <th>15343</th>\n",
       "      <td>-0.495478</td>\n",
       "      <td>0.174179</td>\n",
       "      <td>1.116020</td>\n",
       "      <td>1.995391</td>\n",
       "      <td>-0.218740</td>\n",
       "      <td>0.341422</td>\n",
       "      <td>0</td>\n",
       "      <td>0</td>\n",
       "      <td>0</td>\n",
       "      <td>1</td>\n",
       "      <td>...</td>\n",
       "      <td>1</td>\n",
       "      <td>0</td>\n",
       "      <td>0</td>\n",
       "      <td>0</td>\n",
       "      <td>0</td>\n",
       "      <td>1</td>\n",
       "      <td>1</td>\n",
       "      <td>0</td>\n",
       "      <td>0</td>\n",
       "      <td>1</td>\n",
       "    </tr>\n",
       "    <tr>\n",
       "      <th>15344</th>\n",
       "      <td>-0.876877</td>\n",
       "      <td>-0.796853</td>\n",
       "      <td>1.116020</td>\n",
       "      <td>-0.150439</td>\n",
       "      <td>-0.218740</td>\n",
       "      <td>-0.074178</td>\n",
       "      <td>0</td>\n",
       "      <td>0</td>\n",
       "      <td>0</td>\n",
       "      <td>1</td>\n",
       "      <td>...</td>\n",
       "      <td>0</td>\n",
       "      <td>0</td>\n",
       "      <td>0</td>\n",
       "      <td>0</td>\n",
       "      <td>0</td>\n",
       "      <td>1</td>\n",
       "      <td>0</td>\n",
       "      <td>1</td>\n",
       "      <td>1</td>\n",
       "      <td>0</td>\n",
       "    </tr>\n",
       "    <tr>\n",
       "      <th>15345</th>\n",
       "      <td>1.564076</td>\n",
       "      <td>0.748381</td>\n",
       "      <td>-0.450788</td>\n",
       "      <td>-0.150439</td>\n",
       "      <td>-0.218740</td>\n",
       "      <td>-0.074178</td>\n",
       "      <td>0</td>\n",
       "      <td>0</td>\n",
       "      <td>0</td>\n",
       "      <td>0</td>\n",
       "      <td>...</td>\n",
       "      <td>0</td>\n",
       "      <td>0</td>\n",
       "      <td>0</td>\n",
       "      <td>0</td>\n",
       "      <td>0</td>\n",
       "      <td>1</td>\n",
       "      <td>0</td>\n",
       "      <td>1</td>\n",
       "      <td>0</td>\n",
       "      <td>1</td>\n",
       "    </tr>\n",
       "    <tr>\n",
       "      <th>15346</th>\n",
       "      <td>-0.419198</td>\n",
       "      <td>-1.223741</td>\n",
       "      <td>1.116020</td>\n",
       "      <td>-0.150439</td>\n",
       "      <td>4.473444</td>\n",
       "      <td>0.341422</td>\n",
       "      <td>0</td>\n",
       "      <td>1</td>\n",
       "      <td>0</td>\n",
       "      <td>0</td>\n",
       "      <td>...</td>\n",
       "      <td>0</td>\n",
       "      <td>0</td>\n",
       "      <td>0</td>\n",
       "      <td>0</td>\n",
       "      <td>0</td>\n",
       "      <td>1</td>\n",
       "      <td>1</td>\n",
       "      <td>0</td>\n",
       "      <td>1</td>\n",
       "      <td>0</td>\n",
       "    </tr>\n",
       "  </tbody>\n",
       "</table>\n",
       "<p>15347 rows × 66 columns</p>\n",
       "</div>"
      ],
      "text/plain": [
       "              0         1         2         3         4         5  \\\n",
       "0     -0.342919  0.900258 -0.450788 -0.065600 -0.218740  1.588223   \n",
       "1      0.114760  0.010683 -0.059086 -0.150439 -0.218740 -0.074178   \n",
       "2     -0.190359 -0.106280  1.116020 -0.150439 -0.218740 -0.074178   \n",
       "3     -1.258276 -0.041382 -0.059086 -0.150439 -0.218740 -0.905379   \n",
       "4      0.648719 -0.371197  1.116020  1.995391 -0.218740 -0.074178   \n",
       "...         ...       ...       ...       ...       ...       ...   \n",
       "15342 -1.029436  3.062953  1.116020 -0.150439 -0.218740 -0.074178   \n",
       "15343 -0.495478  0.174179  1.116020  1.995391 -0.218740  0.341422   \n",
       "15344 -0.876877 -0.796853  1.116020 -0.150439 -0.218740 -0.074178   \n",
       "15345  1.564076  0.748381 -0.450788 -0.150439 -0.218740 -0.074178   \n",
       "15346 -0.419198 -1.223741  1.116020 -0.150439  4.473444  0.341422   \n",
       "\n",
       "       workclass_Federal-gov  workclass_Local-gov  workclass_Never-worked  \\\n",
       "0                          0                    1                       0   \n",
       "1                          0                    0                       0   \n",
       "2                          0                    1                       0   \n",
       "3                          0                    0                       0   \n",
       "4                          0                    0                       0   \n",
       "...                      ...                  ...                     ...   \n",
       "15342                      0                    0                       0   \n",
       "15343                      0                    0                       0   \n",
       "15344                      0                    0                       0   \n",
       "15345                      0                    0                       0   \n",
       "15346                      0                    1                       0   \n",
       "\n",
       "       workclass_Private  ...  relationship_Wife  race_Amer-Indian-Eskimo  \\\n",
       "0                      0  ...                  0                        0   \n",
       "1                      1  ...                  0                        0   \n",
       "2                      0  ...                  0                        0   \n",
       "3                      1  ...                  0                        0   \n",
       "4                      1  ...                  0                        0   \n",
       "...                  ...  ...                ...                      ...   \n",
       "15342                  1  ...                  0                        0   \n",
       "15343                  1  ...                  1                        0   \n",
       "15344                  1  ...                  0                        0   \n",
       "15345                  0  ...                  0                        0   \n",
       "15346                  0  ...                  0                        0   \n",
       "\n",
       "       race_Asian-Pac-Islander  race_Black  race_Other  race_White  \\\n",
       "0                            0           1           0           0   \n",
       "1                            0           0           0           1   \n",
       "2                            0           0           0           1   \n",
       "3                            0           0           0           1   \n",
       "4                            0           0           0           1   \n",
       "...                        ...         ...         ...         ...   \n",
       "15342                        0           0           0           1   \n",
       "15343                        0           0           0           1   \n",
       "15344                        0           0           0           1   \n",
       "15345                        0           0           0           1   \n",
       "15346                        0           0           0           1   \n",
       "\n",
       "       sex_Female  sex_Male  >50K,<=50K_<=50K  >50K,<=50K_>50K  \n",
       "0               0         1                 1                0  \n",
       "1               0         1                 1                0  \n",
       "2               0         1                 1                0  \n",
       "3               1         0                 1                0  \n",
       "4               0         1                 0                1  \n",
       "...           ...       ...               ...              ...  \n",
       "15342           0         1                 1                0  \n",
       "15343           1         0                 0                1  \n",
       "15344           0         1                 1                0  \n",
       "15345           0         1                 0                1  \n",
       "15346           1         0                 1                0  \n",
       "\n",
       "[15347 rows x 66 columns]"
      ]
     },
     "execution_count": 25,
     "metadata": {},
     "output_type": "execute_result"
    }
   ],
   "source": [
    "df = pd.read_csv('data.adult.csv')\n",
    "df = df.replace('?', np.nan)\n",
    "\n",
    "X = df.drop('>50K,<=50K', axis=1)\n",
    "cat_cols = df.columns[df.dtypes == object].tolist()\n",
    "df = pd.get_dummies(df[cat_cols])\n",
    "X_sc = pd.DataFrame(X_sc)\n",
    "X = X_sc.join(df)\n",
    "\n",
    "X"
   ]
  },
  {
   "cell_type": "markdown",
   "metadata": {},
   "source": [
    "**Задание 10 (0.5 балла)** Добавьте к масштабированным вещественным признакам закодированные категориальные и обучите алгоритмы с наилучшими гиперпараметрами из предыдущего пункта. Дало ли добавление новых признаков прирост качества? Измеряйте качество как и раньше используя 5-Fold CV. Для этого удобно воспользоваться функцией [cross_val_score](https://scikit-learn.org/stable/modules/generated/sklearn.model_selection.cross_val_score.html)."
   ]
  },
  {
   "cell_type": "code",
   "execution_count": 26,
   "metadata": {
    "scrolled": true
   },
   "outputs": [
    {
     "name": "stdout",
     "output_type": "stream",
     "text": [
      "0.7942919453188791\n"
     ]
    }
   ],
   "source": [
    "from sklearn.model_selection import cross_val_score\n",
    "\n",
    "knn = KNeighborsClassifier(n_neighbors=41, metric='manhattan')\n",
    " \n",
    "print(cross_val_score(knn, X, y, cv=5, scoring='roc_auc').mean())"
   ]
  },
  {
   "cell_type": "code",
   "execution_count": 27,
   "metadata": {},
   "outputs": [
    {
     "name": "stdout",
     "output_type": "stream",
     "text": [
      "0.8392520027843389\n"
     ]
    }
   ],
   "source": [
    "DC = DecisionTreeClassifier(max_depth=8, criterion='entropy')\n",
    "\n",
    "print(cross_val_score(DC, X, y, cv=5, scoring='roc_auc').mean())"
   ]
  },
  {
   "cell_type": "code",
   "execution_count": 28,
   "metadata": {},
   "outputs": [
    {
     "name": "stdout",
     "output_type": "stream",
     "text": [
      "0.8177293636003254\n"
     ]
    }
   ],
   "source": [
    "SL = SGDClassifier(loss='log', penalty='l1')\n",
    "\n",
    "print(cross_val_score(SL, X, y, cv=5, scoring='roc_auc').mean())"
   ]
  },
  {
   "cell_type": "code",
   "execution_count": 29,
   "metadata": {},
   "outputs": [
    {
     "name": "stdout",
     "output_type": "stream",
     "text": [
      "0.8289190473952072\n"
     ]
    }
   ],
   "source": [
    "RFC = RandomForestClassifier(n_estimators = 47, criterion='entropy', max_features='sqrt')\n",
    "\n",
    "print(cross_val_score(RFC, X, y, cv=5, scoring='roc_auc').mean())"
   ]
  },
  {
   "cell_type": "code",
   "execution_count": 170,
   "metadata": {},
   "outputs": [
    {
     "name": "stdout",
     "output_type": "stream",
     "text": [
      "0.8653176329594897\n"
     ]
    }
   ],
   "source": [
    "GBC = GradientBoostingClassifier(n_estimators = 298, criterion='mse', max_features='auto')\n",
    "\n",
    "print(cross_val_score(GBC, X, y, cv=5, scoring='roc_auc').mean())"
   ]
  },
  {
   "cell_type": "markdown",
   "metadata": {},
   "source": [
    "Отличается ли теперь наилучший классификатор от наилучшего в предыдущем пункте?\n",
    "### Теперь бустинг сильно вырвался вперед"
   ]
  },
  {
   "cell_type": "markdown",
   "metadata": {},
   "source": [
    "## Поиск новых полезных признаков\n",
    "\n",
    "**Задание 11 (1.25 балла).** Попробуем улучшить качество модели, добавив в неё новые информативные признаки. Поступим так же, как действовали на [семинаре](https://github.com/Murcha1990/ML_Econom_2021-2022/blob/main/Семинары/Семинар%207/Seminar7.ipynb):\n",
    "* добавьте к модели полиномиальных признаков степени 2 (для создания полиномиальных признаков используйте только исходные числовые признаки)\n",
    "* затем снизьте размерность с помощью:\n",
    "a) фильтрационных методов\n",
    "b) жадного отбора признаков (RFE)\n",
    "с) встроенного в модель метода отбора признаков.\n",
    "\n",
    "Для каждого пункта выше выберите один метод и подберите для него оптимальные гиперпараметры, а также количество финальных признаков (по кросс-валидации).\n",
    "\n",
    "* Затем можно добавить к модели закодированные в предыдущем пункте категориальные признаки.\n",
    "\n",
    "Позволил ли этот подход улучшить качество моделей? "
   ]
  },
  {
   "cell_type": "code",
   "execution_count": 34,
   "metadata": {},
   "outputs": [
    {
     "data": {
      "text/plain": [
       "age               0\n",
       "fnlwgt            0\n",
       "education-num     0\n",
       "capital-gain      0\n",
       "capital-loss      0\n",
       "hours-per-week    0\n",
       "dtype: int64"
      ]
     },
     "execution_count": 34,
     "metadata": {},
     "output_type": "execute_result"
    }
   ],
   "source": [
    "from sklearn.pipeline import Pipeline\n",
    "from sklearn.preprocessing import PolynomialFeatures, StandardScaler\n",
    "\n",
    "df = pd.read_csv('data.adult.csv')\n",
    "df = df.replace('?', np.nan)\n",
    "df = df.dropna()\n",
    "X = df.drop('>50K,<=50K', axis=1)\n",
    "num_cols = X.columns[X.dtypes != object].tolist()\n",
    "X = X[num_cols]\n",
    "X.isnull().sum()"
   ]
  },
  {
   "cell_type": "code",
   "execution_count": 43,
   "metadata": {},
   "outputs": [
    {
     "name": "stdout",
     "output_type": "stream",
     "text": [
      "0.8349798426405515\n"
     ]
    }
   ],
   "source": [
    "pipi_1 = Pipeline([\n",
    "    ('poly_featurizer_', PolynomialFeatures(degree=2)),\n",
    "    ('scaler_', StandardScaler()),\n",
    "    ('model_', KNeighborsClassifier(n_neighbors=41, metric='manhattan'))]\n",
    ")\n",
    "print(cross_val_score(pipi_1, X, y, cv=5, scoring='roc_auc').mean())"
   ]
  },
  {
   "cell_type": "code",
   "execution_count": 36,
   "metadata": {},
   "outputs": [
    {
     "name": "stdout",
     "output_type": "stream",
     "text": [
      "0.8316575304240793\n"
     ]
    }
   ],
   "source": [
    "pipi_2 = Pipeline([\n",
    "    ('poly_featurizer_', PolynomialFeatures(degree=2)),\n",
    "    ('scaler_', StandardScaler()),\n",
    "    ('model_', DecisionTreeClassifier(max_depth=8, criterion='entropy'))]\n",
    ")\n",
    "print(cross_val_score(pipi_2, X, y, cv=5, scoring='roc_auc').mean())"
   ]
  },
  {
   "cell_type": "code",
   "execution_count": 37,
   "metadata": {},
   "outputs": [
    {
     "name": "stdout",
     "output_type": "stream",
     "text": [
      "0.8338796575883247\n"
     ]
    }
   ],
   "source": [
    "pipi_3 = Pipeline([\n",
    "    ('poly_featurizer_', PolynomialFeatures(degree=2)),\n",
    "    ('scaler_', StandardScaler()),\n",
    "    ('model_', SGDClassifier(loss='log', penalty='l1'))]\n",
    ")\n",
    "print(cross_val_score(pipi_3, X, y, cv=5, scoring='roc_auc').mean())"
   ]
  },
  {
   "cell_type": "code",
   "execution_count": 38,
   "metadata": {},
   "outputs": [
    {
     "name": "stdout",
     "output_type": "stream",
     "text": [
      "0.8173055704679058\n"
     ]
    }
   ],
   "source": [
    "pipi_4 = Pipeline([\n",
    "    ('poly_featurizer_', PolynomialFeatures(degree=2)),\n",
    "    ('scaler_', StandardScaler()),\n",
    "    ('model_', RandomForestClassifier(n_estimators = 47, criterion='entropy', max_features='sqrt'))]\n",
    ")\n",
    "print(cross_val_score(pipi_4, X, y, cv=5, scoring='roc_auc').mean())"
   ]
  },
  {
   "cell_type": "code",
   "execution_count": 39,
   "metadata": {},
   "outputs": [
    {
     "name": "stdout",
     "output_type": "stream",
     "text": [
      "0.861353801809908\n"
     ]
    }
   ],
   "source": [
    "pipi_5 = Pipeline([\n",
    "    ('poly_featurizer_', PolynomialFeatures(degree=2)),\n",
    "    ('scaler_', StandardScaler()),\n",
    "    ('model_', GradientBoostingClassifier(n_estimators = 298, criterion='mse', max_features='auto'))]\n",
    ")\n",
    "print(cross_val_score(pipi_5, X, y, cv=5, scoring='roc_auc').mean())"
   ]
  },
  {
   "cell_type": "markdown",
   "metadata": {},
   "source": [
    "### а) Фильтрационные методы"
   ]
  },
  {
   "cell_type": "code",
   "execution_count": 53,
   "metadata": {},
   "outputs": [
    {
     "data": {
      "text/plain": [
       "(15347, 6)"
      ]
     },
     "execution_count": 53,
     "metadata": {},
     "output_type": "execute_result"
    }
   ],
   "source": [
    "X.shape"
   ]
  },
  {
   "cell_type": "code",
   "execution_count": 54,
   "metadata": {},
   "outputs": [],
   "source": [
    "X_tr = pipi_1[:-1].fit_transform(X, y)"
   ]
  },
  {
   "cell_type": "code",
   "execution_count": 55,
   "metadata": {},
   "outputs": [
    {
     "data": {
      "text/plain": [
       "(15347, 28)"
      ]
     },
     "execution_count": 55,
     "metadata": {},
     "output_type": "execute_result"
    }
   ],
   "source": [
    "X_tr.shape"
   ]
  },
  {
   "cell_type": "code",
   "execution_count": 61,
   "metadata": {},
   "outputs": [
    {
     "name": "stdout",
     "output_type": "stream",
     "text": [
      "Для k = 1\n",
      "0.7702767375198734\n",
      "Для k = 2\n",
      "0.8010394148997051\n",
      "Для k = 3\n",
      "0.8081200968489911\n",
      "Для k = 4\n",
      "0.8170409210600207\n",
      "Для k = 5\n",
      "0.8272790491606669\n",
      "Для k = 6\n",
      "0.8300392278362295\n",
      "Для k = 7\n",
      "0.8299870161197926\n",
      "Для k = 8\n",
      "0.8310045593739291\n",
      "Для k = 9\n",
      "0.8308674719731041\n",
      "Для k = 10\n",
      "0.8319086432045953\n",
      "Для k = 11\n",
      "0.8300361786599361\n",
      "Для k = 12\n",
      "0.8303465917743909\n",
      "Для k = 13\n",
      "0.8305269473742165\n",
      "Для k = 14\n",
      "0.8304773412164552\n",
      "Для k = 15\n",
      "0.8313851753420918\n",
      "Для k = 16\n",
      "0.8375485265159398\n",
      "Для k = 17\n",
      "0.8379000897234917\n",
      "Для k = 18\n",
      "0.8381662606842191\n",
      "Для k = 19\n",
      "0.8392106106958319\n",
      "Для k = 20\n",
      "0.8395295030115257\n",
      "Для k = 21\n",
      "0.8394674752435283\n",
      "Для k = 22\n",
      "0.8382184728394952\n",
      "Для k = 23\n",
      "0.8371583537526327\n",
      "Для k = 24\n",
      "0.8360587608163147\n",
      "Для k = 25\n",
      "0.8353090833684513\n",
      "Для k = 26\n",
      "0.835023221865856\n"
     ]
    }
   ],
   "source": [
    "from sklearn.pipeline import make_pipeline\n",
    "from sklearn.feature_selection import f_classif, chi2, mutual_info_classif\n",
    "from sklearn.feature_selection import SelectKBest\n",
    "\n",
    "for i in range(1, 27):\n",
    "    sel = SelectKBest(score_func=mutual_info_classif, k=i)\n",
    "    clf = KNeighborsClassifier(n_neighbors=41, metric='manhattan')\n",
    "    pipi_12 = make_pipeline(sel, clf)\n",
    "    cv_res1 = cross_validate(pipi_12, X_tr, y, cv=5, scoring='roc_auc')\n",
    "    print('Для k =', i)\n",
    "    print(cv_res1['test_score'].mean())"
   ]
  },
  {
   "cell_type": "markdown",
   "metadata": {},
   "source": [
    "### Лучшее значение при k=20. И в данном случае отбор сильно улучшил качество!"
   ]
  },
  {
   "cell_type": "code",
   "execution_count": 84,
   "metadata": {},
   "outputs": [
    {
     "name": "stdout",
     "output_type": "stream",
     "text": [
      "Для k = 1\n",
      "0.7698793357349173\n",
      "Для k = 2\n",
      "0.7893736723518916\n",
      "Для k = 3\n",
      "0.7895151538734761\n",
      "Для k = 4\n",
      "0.7899807606237833\n",
      "Для k = 5\n",
      "0.7917632751869969\n",
      "Для k = 6\n",
      "0.7906322709734525\n",
      "Для k = 7\n",
      "0.7897770861356422\n",
      "Для k = 8\n",
      "0.8283232552086595\n",
      "Для k = 9\n",
      "0.8270872502449634\n",
      "Для k = 10\n",
      "0.8283039561356909\n",
      "Для k = 11\n",
      "0.8275548616612542\n",
      "Для k = 12\n",
      "0.8275407393055236\n",
      "Для k = 13\n",
      "0.8270996356509702\n",
      "Для k = 14\n",
      "0.8255559096071868\n",
      "Для k = 15\n",
      "0.8338563540106193\n",
      "Для k = 16\n",
      "0.8326726722285036\n",
      "Для k = 17\n",
      "0.8348606501005642\n",
      "Для k = 18\n",
      "0.8349531753364043\n",
      "Для k = 19\n",
      "0.8377515582997701\n",
      "Для k = 20\n",
      "0.8340126631268238\n",
      "Для k = 21\n",
      "0.8333888064941843\n",
      "Для k = 22\n",
      "0.8338066694225506\n",
      "Для k = 23\n",
      "0.8318953189753733\n",
      "Для k = 24\n",
      "0.8304449192195333\n",
      "Для k = 25\n",
      "0.8314557189056373\n",
      "Для k = 26\n",
      "0.8309607699071622\n"
     ]
    }
   ],
   "source": [
    "for i in range(1, 27):\n",
    "    sel_2 = SelectKBest(score_func=f_classif, k=i)\n",
    "    clf_2 =  DecisionTreeClassifier(max_depth=8, criterion='entropy')\n",
    "    pipi_22 = make_pipeline(sel_2, clf_2)\n",
    "    cv_res1 = cross_validate(pipi_22, X_tr, y, cv=5, scoring='roc_auc')\n",
    "    print('Для k =', i)\n",
    "    print(cv_res1['test_score'].mean())"
   ]
  },
  {
   "cell_type": "markdown",
   "metadata": {},
   "source": [
    "#### Лучший результат при k = 19. Но качество не улучшилось"
   ]
  },
  {
   "cell_type": "code",
   "execution_count": 168,
   "metadata": {},
   "outputs": [
    {
     "name": "stdout",
     "output_type": "stream",
     "text": [
      "Лучший результат при k = 18\n",
      "0.865588449300768\n"
     ]
    }
   ],
   "source": [
    "best_res = 0\n",
    "\n",
    "for i in range(1, 27):\n",
    "    sel_5 = SelectKBest(score_func=f_classif, k=i)\n",
    "    clf_5 = GradientBoostingClassifier(n_estimators = 298, criterion='mse', max_features='auto')\n",
    "    pipi_52 = make_pipeline(sel_5, clf_5)\n",
    "    cv_res5 = cross_validate(pipi_52, X_tr, y, cv=5, scoring='roc_auc')\n",
    "    if cv_res5['test_score'].mean() > best_res:\n",
    "        best_res = cv_res5['test_score'].mean()\n",
    "        best_i = i\n",
    "print('Лучший результат при k =', best_i)\n",
    "print(best_res)"
   ]
  },
  {
   "cell_type": "markdown",
   "metadata": {},
   "source": [
    "#### Качество улучшилось!"
   ]
  },
  {
   "cell_type": "markdown",
   "metadata": {},
   "source": [
    "### b) Жадный отбор признаков"
   ]
  },
  {
   "cell_type": "code",
   "execution_count": 67,
   "metadata": {},
   "outputs": [
    {
     "name": "stdout",
     "output_type": "stream",
     "text": [
      "Лучший k = 14 при выбрасывании 22 признаков\n",
      "0.8397741163892345\n"
     ]
    }
   ],
   "source": [
    "from sklearn.feature_selection import RFE\n",
    "from sklearn.linear_model import LogisticRegression\n",
    "best_res = 0\n",
    "\n",
    "for i in range(2, 26):\n",
    "    for j in range(2, 25, 4):\n",
    "        sel_3 = RFE(LogisticRegression(max_iter=1000), n_features_to_select = i, step = j)\n",
    "        clf_3 =  SGDClassifier(loss='log', penalty='l1')\n",
    "        pipi_32 = make_pipeline(sel_3, clf_3)\n",
    "        cv_res3 = cross_validate(pipi_32, X_tr, y, cv=5, scoring='roc_auc')\n",
    "        if cv_res3['test_score'].mean() > best_res:\n",
    "            best_res = cv_res3['test_score'].mean()\n",
    "            best_i = i\n",
    "            best_j = j\n",
    "print('Лучший k =', best_i, 'при выбрасывании', best_j, 'признаков')\n",
    "print(best_res)"
   ]
  },
  {
   "cell_type": "markdown",
   "metadata": {},
   "source": [
    "#### Качество улучшилось!"
   ]
  },
  {
   "cell_type": "markdown",
   "metadata": {},
   "source": [
    "### c) Встроенные методы отбора"
   ]
  },
  {
   "cell_type": "code",
   "execution_count": 91,
   "metadata": {},
   "outputs": [
    {
     "name": "stdout",
     "output_type": "stream",
     "text": [
      "Лучший результат при отборе признаков с весами больше 0.0001\n",
      "0.8146792955126765\n"
     ]
    }
   ],
   "source": [
    "from sklearn.feature_selection import SelectFromModel\n",
    "\n",
    "best_res = 0\n",
    "for i in np.linspace(0.0001, 20, 100):\n",
    "    sel_4 = SelectFromModel(LogisticRegression(penalty='l1', max_iter=1000, solver='liblinear'), threshold=i)\n",
    "    clf_4 = RandomForestClassifier(n_estimators = 47, criterion='entropy', max_features='sqrt')\n",
    "    pipi_42 = make_pipeline(sel_4, clf_4)\n",
    "    cv_res4 = cross_validate(pipi_42, X_tr, y, cv=5, scoring='roc_auc')\n",
    "    if cv_res4['test_score'].mean() > best_res:\n",
    "        best_res = cv_res4['test_score'].mean()\n",
    "        best_i = i\n",
    "print('Лучший результат при отборе признаков с весами больше', best_i)\n",
    "print(best_res)"
   ]
  },
  {
   "cell_type": "markdown",
   "metadata": {},
   "source": [
    "### Выводы:\n",
    "#### У некоторых моделей качество улучшилось (У Бустинга, SGDClassifier и Knn)"
   ]
  },
  {
   "cell_type": "markdown",
   "metadata": {},
   "source": [
    "## Смешивание моделей\n",
    "\n",
    "Во всех предыдущих пунктах мы получили много сильных моделей, которые могут быть достаточно разными по своей природе (например, метод ближайших соседей и случайный лес). Часто на практике оказывается возможным увеличить качество предсказания путем смешивания подобных разных моделей. Давайте посмотрим, действительно ли это дает прирост в качестве.\n",
    "\n",
    "Выберите из построенных моделей двух предыдущих пунктов две, которые дали наибольшее начество на кросс-валидации (обозначим их $clf_1$ и $clf_2$). Далее постройте новый классификатор, ответ которого на некотором объекте $x$ будет выглядеть следующим образом:\n",
    "\n",
    "$$result(x) = clf_1(x) \\cdot \\alpha + clf_2(x) \\cdot (1 - \\alpha)$$\n",
    "\n",
    "где $\\alpha$ — гиперпараметр нового классификатора.\n",
    "\n",
    "**Задание 12 (1 балл)** Подберите по сетке от 0 до 1 $\\alpha$ для этого классификатора с помощью 5-Fold CV и постройте график качества в зависимости от $\\alpha$ (аналогичный графику в разделе \"Обучение классификаторов и оценка качества\"). Дал ли этот подход прирост к качеству по сравнению с моделями ранее?"
   ]
  },
  {
   "cell_type": "code",
   "execution_count": 152,
   "metadata": {},
   "outputs": [
    {
     "name": "stdout",
     "output_type": "stream",
     "text": [
      "Наилучший результат при alpha= 1.0\n",
      "AUC-ROC = 0.6958342746044014\n"
     ]
    },
    {
     "data": {
      "text/plain": [
       "<Figure size 1440x1440 with 0 Axes>"
      ]
     },
     "execution_count": 152,
     "metadata": {},
     "output_type": "execute_result"
    },
    {
     "data": {
      "image/png": "[encoded data removed]",
      "text/plain": [
       "<Figure size 432x288 with 1 Axes>"
      ]
     },
     "metadata": {
      "needs_background": "light"
     },
     "output_type": "display_data"
    },
    {
     "data": {
      "text/plain": [
       "<Figure size 1440x1440 with 0 Axes>"
      ]
     },
     "metadata": {},
     "output_type": "display_data"
    }
   ],
   "source": [
    "from sklearn.model_selection import train_test_split\n",
    "from sklearn.metrics import roc_auc_score\n",
    "from sklearn.model_selection import KFold\n",
    "\n",
    "df = pd.read_csv('data.adult.csv')\n",
    "df = df.replace('?', np.nan)\n",
    "df = df.dropna()\n",
    "X = df.drop('>50K,<=50K', axis=1)\n",
    "num_cols = X.columns[X.dtypes != object].tolist()\n",
    "X = X[num_cols]\n",
    "\n",
    "\n",
    "kf = KFold(n_splits=5)\n",
    "best_AUC = 0.6\n",
    "result = []\n",
    "\n",
    "for a in np.linspace(0.00000001, 1, 10):\n",
    "    ras = []\n",
    "    for train_index, test_index in kf.split(X):\n",
    "        X_train = pd.DataFrame(np.ones((len(train_index), 6)))\n",
    "        X_test = pd.DataFrame(np.ones((len(test_index), 6)))\n",
    "        y_train = pd.DataFrame(np.ones(len(train_index)))\n",
    "        y_test = pd.DataFrame(np.ones(len(test_index)))\n",
    "        for i in range(0, len(train_index)):\n",
    "            for j in range(0, 6):\n",
    "                X_train.iloc[i, j] = X.iloc[train_index[i], j]\n",
    "                y_train.iloc[i] = y.iloc[train_index[i]]\n",
    "        for i in range(0, len(test_index)):\n",
    "            for j in range(0, 6):\n",
    "                X_test.iloc[i, j] = X.iloc[test_index[i], j]\n",
    "                y_test.iloc[i] = y.iloc[test_index[i]]\n",
    "        res = pd.DataFrame(list(range(0, len(y_test))))\n",
    "        GBC = GradientBoostingClassifier(n_estimators = 298, criterion='mse', max_features='auto')\n",
    "        SGD = SGDClassifier(loss='log', penalty='l1')\n",
    "        GBC.fit(X_train, y_train)\n",
    "        SGD.fit(X_train, y_train)\n",
    "        c1 = GBC.predict_proba(X_test)\n",
    "        c2 = SGD.predict_proba(X_test)\n",
    "        for i in range(0, len(y_test)):\n",
    "            if a * c1[i][1] + (1 - a) * c2[i][1] > 0.6:\n",
    "                res.iloc[i, 0] = 1\n",
    "            else:\n",
    "                res.iloc[i, 0] = 0\n",
    "        ras.append(roc_auc_score(y_test, res))\n",
    "    result.append(np.mean(ras))\n",
    "    if np.mean(ras) > best_AUC:\n",
    "        best_a = a\n",
    "        best_AUC = np.mean(ras)\n",
    "    \n",
    "print('Наилучший результат при alpha=', best_a)\n",
    "print('AUC-ROC =', best_AUC)\n",
    "plt.plot(list(np.linspace(0, 1, 10)), result)\n",
    "plt.xlabel(\"alpha\")\n",
    "plt.ylabel(\"AUC-ROC\")\n",
    "plt.figure(figsize=(20, 20))"
   ]
  },
  {
   "cell_type": "markdown",
   "metadata": {},
   "source": [
    "#### Бустинг слишком силен, поэтому отнимает себе всё значение альфы. Но мне не нравится результат, поэтому попробуем с другими алгоритмами"
   ]
  },
  {
   "cell_type": "code",
   "execution_count": 158,
   "metadata": {},
   "outputs": [
    {
     "name": "stdout",
     "output_type": "stream",
     "text": [
      "Наилучший результат при alpha= 0.5555555600000001\n",
      "AUC-ROC = 0.7037522478751298\n"
     ]
    },
    {
     "data": {
      "text/plain": [
       "<Figure size 1440x1440 with 0 Axes>"
      ]
     },
     "execution_count": 158,
     "metadata": {},
     "output_type": "execute_result"
    },
    {
     "data": {
      "image/png": "[encoded data removed]",
      "text/plain": [
       "<Figure size 432x288 with 1 Axes>"
      ]
     },
     "metadata": {
      "needs_background": "light"
     },
     "output_type": "display_data"
    },
    {
     "data": {
      "text/plain": [
       "<Figure size 1440x1440 with 0 Axes>"
      ]
     },
     "metadata": {},
     "output_type": "display_data"
    }
   ],
   "source": [
    "df = pd.read_csv('data.adult.csv')\n",
    "df = df.replace('?', np.nan)\n",
    "df = df.dropna()\n",
    "X = df.drop('>50K,<=50K', axis=1)\n",
    "num_cols = X.columns[X.dtypes != object].tolist()\n",
    "X = X[num_cols]\n",
    "scaler = StandardScaler()\n",
    "X = scaler.fit_transform(X)\n",
    "X = pd.DataFrame(X)\n",
    "\n",
    "kf = KFold(n_splits=5)\n",
    "best_AUC = 0.6\n",
    "result_2 = []\n",
    "\n",
    "for a in np.linspace(0.00000001, 1, 10):\n",
    "    ras = []\n",
    "    for train_index, test_index in kf.split(X):\n",
    "        X_train = pd.DataFrame(np.ones((len(train_index), 6)))\n",
    "        X_test = pd.DataFrame(np.ones((len(test_index), 6)))\n",
    "        y_train = pd.DataFrame(np.ones(len(train_index)))\n",
    "        y_test = pd.DataFrame(np.ones(len(test_index)))\n",
    "        for i in range(0, len(train_index)):\n",
    "            for j in range(0, 6):\n",
    "                X_train.iloc[i, j] = X.iloc[train_index[i], j]\n",
    "                y_train.iloc[i] = y.iloc[train_index[i]]\n",
    "        for i in range(0, len(test_index)):\n",
    "            for j in range(0, 6):\n",
    "                X_test.iloc[i, j] = X.iloc[test_index[i], j]\n",
    "                y_test.iloc[i] = y.iloc[test_index[i]]\n",
    "        res = pd.DataFrame(list(range(0, len(y_test))))\n",
    "        KNN = KNeighborsClassifier(n_neighbors=41, metric='manhattan')\n",
    "        DCC = DecisionTreeClassifier(max_depth=8, criterion='entropy')\n",
    "        KNN.fit(X_train, y_train)\n",
    "        DCC.fit(X_train, y_train)\n",
    "        c1 = KNN.predict_proba(X_test)\n",
    "        c2 = DCC.predict_proba(X_test)\n",
    "        for i in range(0, len(y_test)):\n",
    "            if a * c1[i][1] + (1 - a) * c2[i][1] > 0.5:\n",
    "                res.iloc[i, 0] = 1\n",
    "            else:\n",
    "                res.iloc[i, 0] = 0\n",
    "        ras.append(roc_auc_score(y_test, res))\n",
    "    result_2.append(np.mean(ras))\n",
    "    if np.mean(ras) > best_AUC:\n",
    "        best_a = a\n",
    "        best_AUC = np.mean(ras)\n",
    "    \n",
    "print('Наилучший результат при alpha=', best_a)\n",
    "print('AUC-ROC =', best_AUC)\n",
    "plt.plot(list(np.linspace(0, 1, 10)), result_2)\n",
    "plt.xlabel(\"alpha\")\n",
    "plt.ylabel(\"AUC-ROC\")\n",
    "plt.figure(figsize=(20, 20))"
   ]
  },
  {
   "cell_type": "markdown",
   "metadata": {},
   "source": [
    "##### Результаты ухудшились, но возможно я криво написал код. Попробую другой метод, который основан на решении с форума."
   ]
  },
  {
   "cell_type": "code",
   "execution_count": 166,
   "metadata": {},
   "outputs": [
    {
     "name": "stdout",
     "output_type": "stream",
     "text": [
      "Лучший результат при alpha= 0.5789474105263158\n",
      "AUC-ROC = 0.840742923681485\n"
     ]
    },
    {
     "data": {
      "text/plain": [
       "Text(0, 0.5, 'AUC-ROC')"
      ]
     },
     "execution_count": 166,
     "metadata": {},
     "output_type": "execute_result"
    },
    {
     "data": {
      "image/png": "[encoded data removed]",
      "text/plain": [
       "<Figure size 432x288 with 1 Axes>"
      ]
     },
     "metadata": {
      "needs_background": "light"
     },
     "output_type": "display_data"
    }
   ],
   "source": [
    "from sklearn.ensemble import VotingClassifier\n",
    "\n",
    "y=y.astype('float')\n",
    "X=X.astype('float')\n",
    "X = X.fillna(0)\n",
    "X_train, X_test, y_train, y_test = train_test_split(X, y, test_size = 0.2)\n",
    "best_auc = 0\n",
    "res=[]\n",
    "for a in np.linspace(0.0000001,1,20):\n",
    "    DCC = DecisionTreeClassifier(max_depth = 8, criterion='entropy')\n",
    "    SGD = SGDClassifier(loss='log', penalty='l1')\n",
    "\n",
    "    ensemble = VotingClassifier(estimators = [('clf1', DCC), ('clf2', SGD)], voting='soft', weights = [a, 1-a])\n",
    "    res.append(cross_val_score(ensemble, X_train, y_train, cv=5, scoring='roc_auc').mean())\n",
    "    if cross_val_score(ensemble, X_train, y_train, cv=5, scoring='roc_auc').mean() > best_auc:\n",
    "        best_a = a\n",
    "        best_auc = cross_val_score(ensemble, X_train, y_train, cv=5, scoring='roc_auc').mean()\n",
    "print('Лучший результат при alpha=', best_a)\n",
    "print('AUC-ROC =', best_auc)\n",
    "plt.plot(list(np.linspace(0, 1, 20)), res)\n",
    "plt.xlabel(\"alpha\")\n",
    "plt.ylabel(\"AUC-ROC\")"
   ]
  },
  {
   "cell_type": "markdown",
   "metadata": {},
   "source": [
    "#### Лучше не стало (ну по сравнению с предыдущим смешиванием стало, но не лучше чем у других моделей было раньше)"
   ]
  },
  {
   "cell_type": "markdown",
   "metadata": {},
   "source": [
    "## Сравнение построенных моделей\n",
    "\n",
    "![](http://cdn.shopify.com/s/files/1/0870/1066/files/compare_e8b89647-3cb6-4871-a976-2e36e5987773.png?1750043340268621065)\n",
    "\n",
    "После того как было построено много моделей хотелось бы сравнить их между собой. Для этого можно построить \"ящик с усами\" (диаграму размаха). Для этого можно воспользоваться библиотекой [matplotlib](https://matplotlib.org/3.1.0/api/_as_gen/matplotlib.pyplot.boxplot.html) или [seaborn](https://seaborn.pydata.org/generated/seaborn.boxplot.html).\n",
    "\n",
    "**Задание 13 (1 балл)** Для каждого типа классификатора (kNN, DecisionTree, RandomForest, SGD classifier), а так же смешанной модели выберите тот, которых давал наилучшее качество на кросс-валидации (с учетом подобранных гиперпараметров) и постройте диаграмму размаха (все классификаторы должны быть изображены на одном графике).\n",
    " \n",
    "Сделайте общие итоговые выводы о классификаторах с точки зрения их работы с признаками и сложности самой модели (какие гиперпараметры есть у модели, сильно ли изменение значения гиперпараметра влияет на качество модели)."
   ]
  },
  {
   "cell_type": "code",
   "execution_count": 167,
   "metadata": {},
   "outputs": [
    {
     "data": {
      "text/plain": [
       "Text(0, 0.5, 'AUC-ROC')"
      ]
     },
     "execution_count": 167,
     "metadata": {},
     "output_type": "execute_result"
    },
    {
     "data": {
      "image/png": "[encoded data removed]",
      "text/plain": [
       "<Figure size 432x288 with 1 Axes>"
      ]
     },
     "metadata": {
      "needs_background": "light"
     },
     "output_type": "display_data"
    }
   ],
   "source": [
    "df = pd.read_csv('data.adult.csv')\n",
    "df = df.replace('?', np.nan)\n",
    "df = df.dropna()\n",
    "X = df.drop('>50K,<=50K', axis=1)\n",
    "num_cols = X.columns[X.dtypes != object].tolist()\n",
    "X = X[num_cols]\n",
    "\n",
    "sel = SelectKBest(score_func=mutual_info_classif, k=20)\n",
    "clf_1 = KNeighborsClassifier(n_neighbors=41, metric='manhattan')\n",
    "pipi_13 = make_pipeline(sel, clf)\n",
    "cv_res_knn = cross_validate(pipi_13, X_tr, y, cv=5, scoring='roc_auc')\n",
    "\n",
    "scaler = StandardScaler()\n",
    "X_sc = scaler.fit_transform(X)\n",
    "\n",
    "pipi_23 = DecisionTreeClassifier(max_depth=8, criterion='entropy')\n",
    "cv_res_DC = cross_validate(pipi_23, X_sc, y, cv=5, scoring='roc_auc')\n",
    "\n",
    "sel_3 = RFE(LogisticRegression(max_iter=1000), n_features_to_select = 14, step = 22)\n",
    "clf_3 =  SGDClassifier(loss='log', penalty='l1')\n",
    "pipi_33 = make_pipeline(sel_3, clf_3)\n",
    "cv_res_SGD = cross_validate(pipi_33, X_tr, y, cv=5, scoring='roc_auc')\n",
    "\n",
    "df = pd.read_csv('data.adult.csv')\n",
    "df = df.replace('?', np.nan)\n",
    "X = df.drop('>50K,<=50K', axis=1)\n",
    "cat_cols = df.columns[df.dtypes == object].tolist()\n",
    "df = pd.get_dummies(df[cat_cols])\n",
    "X_sc = pd.DataFrame(X_sc)\n",
    "X = X_sc.join(df)\n",
    "\n",
    "RFC = RandomForestClassifier(n_estimators = 47, criterion='entropy', max_features='sqrt')\n",
    "cv_res_RFC = cross_validate(RFC, X, y, cv=5, scoring='roc_auc')\n",
    "\n",
    "\n",
    "\n",
    "data = [cv_res_knn['test_score'], cv_res_DC['test_score'], cv_res_SGD['test_score'], cv_res_RFC['test_score'], res]\n",
    "plt.boxplot(data)\n",
    "plt.xlabel(\"Модель\")\n",
    "plt.ylabel(\"AUC-ROC\")"
   ]
  },
  {
   "cell_type": "markdown",
   "metadata": {},
   "source": [
    "### Из всех рассмотренных моделей лучший результат показывает DecisionTree\n",
    "#### У этой модели наибольшее значение обоих квантилей, а также максимальное и минимальное значение\n",
    "### Лучшее значение медианы у Knn"
   ]
  },
  {
   "cell_type": "markdown",
   "metadata": {},
   "source": [
    "### Knn изначально работал плохо. Масштабирование и отбор признаков сильно улучшили его результаты. Но точность всё же не самая высокая и в некоторых задачах долго обучался. Важно правильно подобрать гиперпараметр.\n",
    "### DecisionTree показывали себя одним лучших классификаторов: очень быстро обучаются, им практически всё равно на масштабирование и отбор некоторых других признаков. Результат - второе место после Бустинга. Важно подбирать оптимальный гиперпараметр (глубину), но это делается быстро\n",
    "### SGDClassifier изначально тоже работал не очень хорошо, потом возникли проблемы с гиперпараметрами (значит при их изменении качество не сильно менялось и каждый раз какой-то из гиперпараметров показывал чуть лучший результат). После масштабирования и отбора признаков результаты сильно улучшились\n",
    "### СлучайныйЛес, возможно, у меня как-то полетел или изначально был выбран неудачный гиперпараметр... Но он сработал очень плохо. Худший результат\n",
    "### Бустинг. Долгий. Очень долгий. Но самые лучшие результаты - всё справедливо. Оптимальный гиперпараметр важен, но достаточно найти его в некотором приближении (если б я взял 200, а не 298 результат изменился бы несильно, а время может быть отлично бы сократилось)"
   ]
  },
  {
   "cell_type": "code",
   "execution_count": 1,
   "metadata": {},
   "outputs": [
    {
     "name": "stdout",
     "output_type": "stream",
     "text": [
      "Object `GradientBoosting` not found.\n"
     ]
    }
   ],
   "source": [
    "?GradientBoosting"
   ]
  },
  {
   "cell_type": "code",
   "execution_count": null,
   "metadata": {},
   "outputs": [],
   "source": []
  }
 ],
 "metadata": {
  "kernelspec": {
   "display_name": "Python 3",
   "language": "python",
   "name": "python3"
  },
  "language_info": {
   "codemirror_mode": {
    "name": "ipython",
    "version": 3
   },
   "file_extension": ".py",
   "mimetype": "text/x-python",
   "name": "python",
   "nbconvert_exporter": "python",
   "pygments_lexer": "ipython3",
   "version": "3.8.5"
  }
 },
 "nbformat": 4,
 "nbformat_minor": 1
}
